{
 "cells": [
  {
   "cell_type": "markdown",
   "metadata": {},
   "source": [
    "# Justin McCarty Trips Data Exploration"
   ]
  },
  {
   "cell_type": "code",
   "execution_count": 2,
   "metadata": {
    "collapsed": true
   },
   "outputs": [],
   "source": [
    "#importing the relevant packages\n",
    "#including Numpy (for math and arrays) and csv\n",
    "\n",
    "import csv as csv\n",
    "import numpy as np\n",
    "import pandas as pd"
   ]
  },
  {
   "cell_type": "code",
   "execution_count": 3,
   "metadata": {
    "collapsed": false
   },
   "outputs": [],
   "source": [
    "# Open up the csv file in to a Python object\n",
    "# For .read_csv, always use header=0 when you know row 0 is the header row\n",
    "df = pd.read_csv('mccarty_trip_data_small.csv', header=0)"
   ]
  },
  {
   "cell_type": "code",
   "execution_count": 4,
   "metadata": {
    "collapsed": false
   },
   "outputs": [
    {
     "data": {
      "text/html": [
       "<div style=\"max-height:1000px;max-width:1500px;overflow:auto;\">\n",
       "<table border=\"1\" class=\"dataframe\">\n",
       "  <thead>\n",
       "    <tr style=\"text-align: right;\">\n",
       "      <th></th>\n",
       "      <th>date_trunc</th>\n",
       "      <th>label</th>\n",
       "      <th>status</th>\n",
       "      <th>name</th>\n",
       "    </tr>\n",
       "  </thead>\n",
       "  <tbody>\n",
       "    <tr>\n",
       "      <th>0</th>\n",
       "      <td> 2013-11-06 00:00:00</td>\n",
       "      <td> San Francisco</td>\n",
       "      <td> canceled</td>\n",
       "      <td> UberX</td>\n",
       "    </tr>\n",
       "    <tr>\n",
       "      <th>1</th>\n",
       "      <td> 2013-12-07 00:00:00</td>\n",
       "      <td> San Francisco</td>\n",
       "      <td> canceled</td>\n",
       "      <td> UberX</td>\n",
       "    </tr>\n",
       "    <tr>\n",
       "      <th>2</th>\n",
       "      <td> 2015-03-26 00:00:00</td>\n",
       "      <td> San Francisco</td>\n",
       "      <td> canceled</td>\n",
       "      <td> UberX</td>\n",
       "    </tr>\n",
       "  </tbody>\n",
       "</table>\n",
       "</div>"
      ],
      "text/plain": [
       "            date_trunc          label    status   name\n",
       "0  2013-11-06 00:00:00  San Francisco  canceled  UberX\n",
       "1  2013-12-07 00:00:00  San Francisco  canceled  UberX\n",
       "2  2015-03-26 00:00:00  San Francisco  canceled  UberX"
      ]
     },
     "execution_count": 4,
     "metadata": {},
     "output_type": "execute_result"
    }
   ],
   "source": [
    "#Show the file and what we are looking at\n",
    "df.head(3)"
   ]
  },
  {
   "cell_type": "code",
   "execution_count": 5,
   "metadata": {
    "collapsed": false
   },
   "outputs": [
    {
     "data": {
      "text/plain": [
       "date_trunc    object\n",
       "label         object\n",
       "status        object\n",
       "name          object\n",
       "dtype: object"
      ]
     },
     "execution_count": 5,
     "metadata": {},
     "output_type": "execute_result"
    }
   ],
   "source": [
    "#What types of columns are we looking at?\n",
    "df.dtypes"
   ]
  },
  {
   "cell_type": "code",
   "execution_count": 6,
   "metadata": {
    "collapsed": false
   },
   "outputs": [
    {
     "data": {
      "text/html": [
       "<div style=\"max-height:1000px;max-width:1500px;overflow:auto;\">\n",
       "<table border=\"1\" class=\"dataframe\">\n",
       "  <thead>\n",
       "    <tr style=\"text-align: right;\">\n",
       "      <th></th>\n",
       "      <th>date_trunc</th>\n",
       "      <th>label</th>\n",
       "      <th>status</th>\n",
       "      <th>name</th>\n",
       "    </tr>\n",
       "  </thead>\n",
       "  <tbody>\n",
       "    <tr>\n",
       "      <th>count</th>\n",
       "      <td>                 788</td>\n",
       "      <td>           788</td>\n",
       "      <td>       788</td>\n",
       "      <td>   788</td>\n",
       "    </tr>\n",
       "    <tr>\n",
       "      <th>unique</th>\n",
       "      <td>                 382</td>\n",
       "      <td>            10</td>\n",
       "      <td>         5</td>\n",
       "      <td>    21</td>\n",
       "    </tr>\n",
       "    <tr>\n",
       "      <th>top</th>\n",
       "      <td> 2013-08-01 00:00:00</td>\n",
       "      <td> San Francisco</td>\n",
       "      <td> completed</td>\n",
       "      <td> UberX</td>\n",
       "    </tr>\n",
       "    <tr>\n",
       "      <th>freq</th>\n",
       "      <td>                  14</td>\n",
       "      <td>           663</td>\n",
       "      <td>       644</td>\n",
       "      <td>   475</td>\n",
       "    </tr>\n",
       "  </tbody>\n",
       "</table>\n",
       "</div>"
      ],
      "text/plain": [
       "                 date_trunc          label     status   name\n",
       "count                   788            788        788    788\n",
       "unique                  382             10          5     21\n",
       "top     2013-08-01 00:00:00  San Francisco  completed  UberX\n",
       "freq                     14            663        644    475"
      ]
     },
     "execution_count": 6,
     "metadata": {},
     "output_type": "execute_result"
    }
   ],
   "source": [
    "df.describe()"
   ]
  },
  {
   "cell_type": "code",
   "execution_count": null,
   "metadata": {
    "collapsed": true
   },
   "outputs": [],
   "source": []
  }
 ],
 "metadata": {
  "kernelspec": {
   "display_name": "Python 2",
   "language": "python",
   "name": "python2"
  },
  "language_info": {
   "codemirror_mode": {
    "name": "ipython",
    "version": 2
   },
   "file_extension": ".py",
   "mimetype": "text/x-python",
   "name": "python",
   "nbconvert_exporter": "python",
   "pygments_lexer": "ipython2",
   "version": "2.7.10"
  }
 },
 "nbformat": 4,
 "nbformat_minor": 0
}
