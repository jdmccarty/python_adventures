{
 "metadata": {
  "name": "",
  "signature": "sha256:a56d7728508e6eb74efba9ba2328d2ba5cc1e0070a24d364c44ec01bf066baa2"
 },
 "nbformat": 3,
 "nbformat_minor": 0,
 "worksheets": [
  {
   "cells": [
    {
     "cell_type": "code",
     "collapsed": false,
     "input": [
      "%pylab inline"
     ],
     "language": "python",
     "metadata": {},
     "outputs": [
      {
       "output_type": "stream",
       "stream": "stdout",
       "text": [
        "Populating the interactive namespace from numpy and matplotlib\n"
       ]
      }
     ],
     "prompt_number": 1
    },
    {
     "cell_type": "code",
     "collapsed": false,
     "input": [
      "import pandas as pd\n",
      "import numpy as np\n",
      "\n",
      "\n",
      "#pd.options.display.mpl_style = 'default'\n",
      "\n",
      "import matplotlib.pyplot as plt\n",
      "#import uberplot \n",
      "#palette = uberplot.palatte()\n",
      "#plt.style.use('uberplot')"
     ],
     "language": "python",
     "metadata": {},
     "outputs": [],
     "prompt_number": 2
    },
    {
     "cell_type": "markdown",
     "metadata": {},
     "source": [
      "Example Query, download this data\n",
      "\n",
      "https://querybuilder.uber.com/builder/qB5haBMic6\n",
      "\n",
      "____\n",
      "\n",
      "Make sure its in the same directory as the one you're running ipython notebook from"
     ]
    },
    {
     "cell_type": "code",
     "collapsed": false,
     "input": [
      "!ls -l | grep csv #gives more infomation on the csv you have in your same folder"
     ],
     "language": "python",
     "metadata": {},
     "outputs": [
      {
       "output_type": "stream",
       "stream": "stdout",
       "text": [
        "-rw-r-----@ 1 justinnmccarty  staff  165286218 Dec  4 13:25 qB5haBMic6.csv\r\n"
       ]
      }
     ],
     "prompt_number": 4
    },
    {
     "cell_type": "markdown",
     "metadata": {},
     "source": [
      "Load in the 'n890cBrtZU.csv' File"
     ]
    },
    {
     "cell_type": "code",
     "collapsed": false,
     "input": [
      "data = pd.read_csv('qB5haBMic6.csv')"
     ],
     "language": "python",
     "metadata": {},
     "outputs": [],
     "prompt_number": 5
    },
    {
     "cell_type": "code",
     "collapsed": false,
     "input": [
      "type(data)"
     ],
     "language": "python",
     "metadata": {},
     "outputs": [
      {
       "metadata": {},
       "output_type": "pyout",
       "prompt_number": 6,
       "text": [
        "pandas.core.frame.DataFrame"
       ]
      }
     ],
     "prompt_number": 6
    },
    {
     "cell_type": "code",
     "collapsed": false,
     "input": [
      "data.shape #rows and columns of the "
     ],
     "language": "python",
     "metadata": {},
     "outputs": [
      {
       "metadata": {},
       "output_type": "pyout",
       "prompt_number": 7,
       "text": [
        "(1000000, 15)"
       ]
      }
     ],
     "prompt_number": 7
    },
    {
     "cell_type": "markdown",
     "metadata": {},
     "source": [
      "Querybuilder Quirk!  It finds 1198115 rows but it only returned 1000000 "
     ]
    },
    {
     "cell_type": "code",
     "collapsed": false,
     "input": [
      "data.head()"
     ],
     "language": "python",
     "metadata": {},
     "outputs": [
      {
       "html": [
        "<div style=\"max-height:1000px;max-width:1500px;overflow:auto;\">\n",
        "<table border=\"1\" class=\"dataframe\">\n",
        "  <thead>\n",
        "    <tr style=\"text-align: right;\">\n",
        "      <th></th>\n",
        "      <th>uuid</th>\n",
        "      <th>status</th>\n",
        "      <th>request_at</th>\n",
        "      <th>request_lat</th>\n",
        "      <th>request_lng</th>\n",
        "      <th>dropoff_at</th>\n",
        "      <th>dropoff_lat</th>\n",
        "      <th>dropoff_lng</th>\n",
        "      <th>predicted_eta</th>\n",
        "      <th>actual_eta</th>\n",
        "      <th>request_vehicle_view_id</th>\n",
        "      <th>duration</th>\n",
        "      <th>distance</th>\n",
        "      <th>fare</th>\n",
        "      <th>multiplier</th>\n",
        "    </tr>\n",
        "  </thead>\n",
        "  <tbody>\n",
        "    <tr>\n",
        "      <th>0</th>\n",
        "      <td> 7d7e7379-cda2-42a5-b0bc-cf7b7e0e0d01</td>\n",
        "      <td>  completed</td>\n",
        "      <td> 2014-11-18 18:36:00</td>\n",
        "      <td> 37.774002</td>\n",
        "      <td>-122.415553</td>\n",
        "      <td> 2014-11-18 18:58:45</td>\n",
        "      <td> 37.806186</td>\n",
        "      <td>-122.410399</td>\n",
        "      <td>  77</td>\n",
        "      <td> 194</td>\n",
        "      <td> 8</td>\n",
        "      <td> 1074</td>\n",
        "      <td> 3.687849</td>\n",
        "      <td> 12.64</td>\n",
        "      <td>NaN</td>\n",
        "    </tr>\n",
        "    <tr>\n",
        "      <th>1</th>\n",
        "      <td> 7da8b175-419d-4521-bedf-34eb06b05d32</td>\n",
        "      <td>  completed</td>\n",
        "      <td> 2014-11-19 17:23:01</td>\n",
        "      <td> 37.735025</td>\n",
        "      <td>-122.399623</td>\n",
        "      <td> 2014-11-19 17:36:29</td>\n",
        "      <td> 37.726226</td>\n",
        "      <td>-122.403121</td>\n",
        "      <td> 329</td>\n",
        "      <td> 418</td>\n",
        "      <td> 8</td>\n",
        "      <td>  339</td>\n",
        "      <td> 0.902479</td>\n",
        "      <td>  5.84</td>\n",
        "      <td>NaN</td>\n",
        "    </tr>\n",
        "    <tr>\n",
        "      <th>2</th>\n",
        "      <td> 7e30d7ba-cd6d-45d0-ad24-725f4b7fad01</td>\n",
        "      <td>  completed</td>\n",
        "      <td> 2014-11-17 19:44:35</td>\n",
        "      <td> 37.798089</td>\n",
        "      <td>-122.448235</td>\n",
        "      <td> 2014-11-17 20:02:18</td>\n",
        "      <td> 37.803222</td>\n",
        "      <td>-122.402930</td>\n",
        "      <td> 225</td>\n",
        "      <td> 157</td>\n",
        "      <td> 8</td>\n",
        "      <td>  683</td>\n",
        "      <td> 3.298243</td>\n",
        "      <td> 10.45</td>\n",
        "      <td>NaN</td>\n",
        "    </tr>\n",
        "    <tr>\n",
        "      <th>3</th>\n",
        "      <td> 7e578860-3268-4486-97ea-303513606d2d</td>\n",
        "      <td> fare_split</td>\n",
        "      <td> 2014-11-17 22:27:33</td>\n",
        "      <td> 37.321635</td>\n",
        "      <td>-121.947820</td>\n",
        "      <td> 2014-11-17 22:35:43</td>\n",
        "      <td>       NaN</td>\n",
        "      <td>        NaN</td>\n",
        "      <td> NaN</td>\n",
        "      <td> NaN</td>\n",
        "      <td> 8</td>\n",
        "      <td>  349</td>\n",
        "      <td> 2.607375</td>\n",
        "      <td>  8.60</td>\n",
        "      <td>NaN</td>\n",
        "    </tr>\n",
        "    <tr>\n",
        "      <th>4</th>\n",
        "      <td> 7e7da380-5b8d-4e79-ad19-faed9fdb1d3d</td>\n",
        "      <td>  completed</td>\n",
        "      <td> 2014-11-18 18:35:00</td>\n",
        "      <td> 37.803039</td>\n",
        "      <td>-122.416453</td>\n",
        "      <td> 2014-11-18 18:46:11</td>\n",
        "      <td> 37.798784</td>\n",
        "      <td>-122.399291</td>\n",
        "      <td> 189</td>\n",
        "      <td> 110</td>\n",
        "      <td> 8</td>\n",
        "      <td>  439</td>\n",
        "      <td> 1.573876</td>\n",
        "      <td>  7.15</td>\n",
        "      <td>NaN</td>\n",
        "    </tr>\n",
        "  </tbody>\n",
        "</table>\n",
        "</div>"
       ],
       "metadata": {},
       "output_type": "pyout",
       "prompt_number": 8,
       "text": [
        "                                   uuid      status           request_at  \\\n",
        "0  7d7e7379-cda2-42a5-b0bc-cf7b7e0e0d01   completed  2014-11-18 18:36:00   \n",
        "1  7da8b175-419d-4521-bedf-34eb06b05d32   completed  2014-11-19 17:23:01   \n",
        "2  7e30d7ba-cd6d-45d0-ad24-725f4b7fad01   completed  2014-11-17 19:44:35   \n",
        "3  7e578860-3268-4486-97ea-303513606d2d  fare_split  2014-11-17 22:27:33   \n",
        "4  7e7da380-5b8d-4e79-ad19-faed9fdb1d3d   completed  2014-11-18 18:35:00   \n",
        "\n",
        "   request_lat  request_lng           dropoff_at  dropoff_lat  dropoff_lng  \\\n",
        "0    37.774002  -122.415553  2014-11-18 18:58:45    37.806186  -122.410399   \n",
        "1    37.735025  -122.399623  2014-11-19 17:36:29    37.726226  -122.403121   \n",
        "2    37.798089  -122.448235  2014-11-17 20:02:18    37.803222  -122.402930   \n",
        "3    37.321635  -121.947820  2014-11-17 22:35:43          NaN          NaN   \n",
        "4    37.803039  -122.416453  2014-11-18 18:46:11    37.798784  -122.399291   \n",
        "\n",
        "   predicted_eta  actual_eta  request_vehicle_view_id  duration  distance  \\\n",
        "0             77         194                        8      1074  3.687849   \n",
        "1            329         418                        8       339  0.902479   \n",
        "2            225         157                        8       683  3.298243   \n",
        "3            NaN         NaN                        8       349  2.607375   \n",
        "4            189         110                        8       439  1.573876   \n",
        "\n",
        "    fare  multiplier  \n",
        "0  12.64         NaN  \n",
        "1   5.84         NaN  \n",
        "2  10.45         NaN  \n",
        "3   8.60         NaN  \n",
        "4   7.15         NaN  "
       ]
      }
     ],
     "prompt_number": 8
    },
    {
     "cell_type": "markdown",
     "metadata": {},
     "source": [
      "#Slicing & Dicing the Data!"
     ]
    },
    {
     "cell_type": "code",
     "collapsed": false,
     "input": [
      "# Selecting a column\n",
      "data['status'].head()"
     ],
     "language": "python",
     "metadata": {},
     "outputs": [
      {
       "metadata": {},
       "output_type": "pyout",
       "prompt_number": 9,
       "text": [
        "0     completed\n",
        "1     completed\n",
        "2     completed\n",
        "3    fare_split\n",
        "4     completed\n",
        "Name: status, dtype: object"
       ]
      }
     ],
     "prompt_number": 9
    },
    {
     "cell_type": "code",
     "collapsed": false,
     "input": [
      "# a semi shorthand for selecting a column\n",
      "data.status.head()"
     ],
     "language": "python",
     "metadata": {},
     "outputs": [
      {
       "metadata": {},
       "output_type": "pyout",
       "prompt_number": 10,
       "text": [
        "0     completed\n",
        "1     completed\n",
        "2     completed\n",
        "3    fare_split\n",
        "4     completed\n",
        "Name: status, dtype: object"
       ]
      }
     ],
     "prompt_number": 10
    },
    {
     "cell_type": "code",
     "collapsed": false,
     "input": [
      "# Selecting a specific row\n",
      "data.iloc[0]"
     ],
     "language": "python",
     "metadata": {},
     "outputs": [
      {
       "metadata": {},
       "output_type": "pyout",
       "prompt_number": 11,
       "text": [
        "uuid                       7d7e7379-cda2-42a5-b0bc-cf7b7e0e0d01\n",
        "status                                                completed\n",
        "request_at                                  2014-11-18 18:36:00\n",
        "request_lat                                              37.774\n",
        "request_lng                                           -122.4156\n",
        "dropoff_at                                  2014-11-18 18:58:45\n",
        "dropoff_lat                                            37.80619\n",
        "dropoff_lng                                           -122.4104\n",
        "predicted_eta                                                77\n",
        "actual_eta                                                  194\n",
        "request_vehicle_view_id                                       8\n",
        "duration                                                   1074\n",
        "distance                                               3.687849\n",
        "fare                                                      12.64\n",
        "multiplier                                                  NaN\n",
        "Name: 0, dtype: object"
       ]
      }
     ],
     "prompt_number": 11
    },
    {
     "cell_type": "code",
     "collapsed": false,
     "input": [
      "data.loc[0]"
     ],
     "language": "python",
     "metadata": {},
     "outputs": [
      {
       "metadata": {},
       "output_type": "pyout",
       "prompt_number": 12,
       "text": [
        "uuid                       7d7e7379-cda2-42a5-b0bc-cf7b7e0e0d01\n",
        "status                                                completed\n",
        "request_at                                  2014-11-18 18:36:00\n",
        "request_lat                                              37.774\n",
        "request_lng                                           -122.4156\n",
        "dropoff_at                                  2014-11-18 18:58:45\n",
        "dropoff_lat                                            37.80619\n",
        "dropoff_lng                                           -122.4104\n",
        "predicted_eta                                                77\n",
        "actual_eta                                                  194\n",
        "request_vehicle_view_id                                       8\n",
        "duration                                                   1074\n",
        "distance                                               3.687849\n",
        "fare                                                      12.64\n",
        "multiplier                                                  NaN\n",
        "Name: 0, dtype: object"
       ]
      }
     ],
     "prompt_number": 12
    },
    {
     "cell_type": "markdown",
     "metadata": {},
     "source": [
      "_________\n",
      "###iloc vs. loc\n",
      "\n",
      "iloc allows you to specify a row based on the actual row number\n",
      "\n",
      "loc allows you to specify a row based on the row name\n",
      "\n",
      "In the example above, the physical row number and name are both 0, thats why they return the same thing\n",
      "\n",
      "_______"
     ]
    },
    {
     "cell_type": "code",
     "collapsed": false,
     "input": [
      "data.head()"
     ],
     "language": "python",
     "metadata": {},
     "outputs": [
      {
       "html": [
        "<div style=\"max-height:1000px;max-width:1500px;overflow:auto;\">\n",
        "<table border=\"1\" class=\"dataframe\">\n",
        "  <thead>\n",
        "    <tr style=\"text-align: right;\">\n",
        "      <th></th>\n",
        "      <th>uuid</th>\n",
        "      <th>status</th>\n",
        "      <th>request_at</th>\n",
        "      <th>request_lat</th>\n",
        "      <th>request_lng</th>\n",
        "      <th>dropoff_at</th>\n",
        "      <th>dropoff_lat</th>\n",
        "      <th>dropoff_lng</th>\n",
        "      <th>predicted_eta</th>\n",
        "      <th>actual_eta</th>\n",
        "      <th>request_vehicle_view_id</th>\n",
        "      <th>duration</th>\n",
        "      <th>distance</th>\n",
        "      <th>fare</th>\n",
        "      <th>multiplier</th>\n",
        "    </tr>\n",
        "  </thead>\n",
        "  <tbody>\n",
        "    <tr>\n",
        "      <th>0</th>\n",
        "      <td> 7d7e7379-cda2-42a5-b0bc-cf7b7e0e0d01</td>\n",
        "      <td>  completed</td>\n",
        "      <td> 2014-11-18 18:36:00</td>\n",
        "      <td> 37.774002</td>\n",
        "      <td>-122.415553</td>\n",
        "      <td> 2014-11-18 18:58:45</td>\n",
        "      <td> 37.806186</td>\n",
        "      <td>-122.410399</td>\n",
        "      <td>  77</td>\n",
        "      <td> 194</td>\n",
        "      <td> 8</td>\n",
        "      <td> 1074</td>\n",
        "      <td> 3.687849</td>\n",
        "      <td> 12.64</td>\n",
        "      <td>NaN</td>\n",
        "    </tr>\n",
        "    <tr>\n",
        "      <th>1</th>\n",
        "      <td> 7da8b175-419d-4521-bedf-34eb06b05d32</td>\n",
        "      <td>  completed</td>\n",
        "      <td> 2014-11-19 17:23:01</td>\n",
        "      <td> 37.735025</td>\n",
        "      <td>-122.399623</td>\n",
        "      <td> 2014-11-19 17:36:29</td>\n",
        "      <td> 37.726226</td>\n",
        "      <td>-122.403121</td>\n",
        "      <td> 329</td>\n",
        "      <td> 418</td>\n",
        "      <td> 8</td>\n",
        "      <td>  339</td>\n",
        "      <td> 0.902479</td>\n",
        "      <td>  5.84</td>\n",
        "      <td>NaN</td>\n",
        "    </tr>\n",
        "    <tr>\n",
        "      <th>2</th>\n",
        "      <td> 7e30d7ba-cd6d-45d0-ad24-725f4b7fad01</td>\n",
        "      <td>  completed</td>\n",
        "      <td> 2014-11-17 19:44:35</td>\n",
        "      <td> 37.798089</td>\n",
        "      <td>-122.448235</td>\n",
        "      <td> 2014-11-17 20:02:18</td>\n",
        "      <td> 37.803222</td>\n",
        "      <td>-122.402930</td>\n",
        "      <td> 225</td>\n",
        "      <td> 157</td>\n",
        "      <td> 8</td>\n",
        "      <td>  683</td>\n",
        "      <td> 3.298243</td>\n",
        "      <td> 10.45</td>\n",
        "      <td>NaN</td>\n",
        "    </tr>\n",
        "    <tr>\n",
        "      <th>3</th>\n",
        "      <td> 7e578860-3268-4486-97ea-303513606d2d</td>\n",
        "      <td> fare_split</td>\n",
        "      <td> 2014-11-17 22:27:33</td>\n",
        "      <td> 37.321635</td>\n",
        "      <td>-121.947820</td>\n",
        "      <td> 2014-11-17 22:35:43</td>\n",
        "      <td>       NaN</td>\n",
        "      <td>        NaN</td>\n",
        "      <td> NaN</td>\n",
        "      <td> NaN</td>\n",
        "      <td> 8</td>\n",
        "      <td>  349</td>\n",
        "      <td> 2.607375</td>\n",
        "      <td>  8.60</td>\n",
        "      <td>NaN</td>\n",
        "    </tr>\n",
        "    <tr>\n",
        "      <th>4</th>\n",
        "      <td> 7e7da380-5b8d-4e79-ad19-faed9fdb1d3d</td>\n",
        "      <td>  completed</td>\n",
        "      <td> 2014-11-18 18:35:00</td>\n",
        "      <td> 37.803039</td>\n",
        "      <td>-122.416453</td>\n",
        "      <td> 2014-11-18 18:46:11</td>\n",
        "      <td> 37.798784</td>\n",
        "      <td>-122.399291</td>\n",
        "      <td> 189</td>\n",
        "      <td> 110</td>\n",
        "      <td> 8</td>\n",
        "      <td>  439</td>\n",
        "      <td> 1.573876</td>\n",
        "      <td>  7.15</td>\n",
        "      <td>NaN</td>\n",
        "    </tr>\n",
        "  </tbody>\n",
        "</table>\n",
        "</div>"
       ],
       "metadata": {},
       "output_type": "pyout",
       "prompt_number": 13,
       "text": [
        "                                   uuid      status           request_at  \\\n",
        "0  7d7e7379-cda2-42a5-b0bc-cf7b7e0e0d01   completed  2014-11-18 18:36:00   \n",
        "1  7da8b175-419d-4521-bedf-34eb06b05d32   completed  2014-11-19 17:23:01   \n",
        "2  7e30d7ba-cd6d-45d0-ad24-725f4b7fad01   completed  2014-11-17 19:44:35   \n",
        "3  7e578860-3268-4486-97ea-303513606d2d  fare_split  2014-11-17 22:27:33   \n",
        "4  7e7da380-5b8d-4e79-ad19-faed9fdb1d3d   completed  2014-11-18 18:35:00   \n",
        "\n",
        "   request_lat  request_lng           dropoff_at  dropoff_lat  dropoff_lng  \\\n",
        "0    37.774002  -122.415553  2014-11-18 18:58:45    37.806186  -122.410399   \n",
        "1    37.735025  -122.399623  2014-11-19 17:36:29    37.726226  -122.403121   \n",
        "2    37.798089  -122.448235  2014-11-17 20:02:18    37.803222  -122.402930   \n",
        "3    37.321635  -121.947820  2014-11-17 22:35:43          NaN          NaN   \n",
        "4    37.803039  -122.416453  2014-11-18 18:46:11    37.798784  -122.399291   \n",
        "\n",
        "   predicted_eta  actual_eta  request_vehicle_view_id  duration  distance  \\\n",
        "0             77         194                        8      1074  3.687849   \n",
        "1            329         418                        8       339  0.902479   \n",
        "2            225         157                        8       683  3.298243   \n",
        "3            NaN         NaN                        8       349  2.607375   \n",
        "4            189         110                        8       439  1.573876   \n",
        "\n",
        "    fare  multiplier  \n",
        "0  12.64         NaN  \n",
        "1   5.84         NaN  \n",
        "2  10.45         NaN  \n",
        "3   8.60         NaN  \n",
        "4   7.15         NaN  "
       ]
      }
     ],
     "prompt_number": 13
    },
    {
     "cell_type": "markdown",
     "metadata": {},
     "source": [
      "##What if I want multiple columns or rows? or both!?"
     ]
    },
    {
     "cell_type": "code",
     "collapsed": false,
     "input": [
      "data[['status', 'request_vehicle_view_id', 'duration']].head()"
     ],
     "language": "python",
     "metadata": {},
     "outputs": [
      {
       "html": [
        "<div style=\"max-height:1000px;max-width:1500px;overflow:auto;\">\n",
        "<table border=\"1\" class=\"dataframe\">\n",
        "  <thead>\n",
        "    <tr style=\"text-align: right;\">\n",
        "      <th></th>\n",
        "      <th>status</th>\n",
        "      <th>request_vehicle_view_id</th>\n",
        "      <th>duration</th>\n",
        "    </tr>\n",
        "  </thead>\n",
        "  <tbody>\n",
        "    <tr>\n",
        "      <th>0</th>\n",
        "      <td>  completed</td>\n",
        "      <td> 8</td>\n",
        "      <td> 1074</td>\n",
        "    </tr>\n",
        "    <tr>\n",
        "      <th>1</th>\n",
        "      <td>  completed</td>\n",
        "      <td> 8</td>\n",
        "      <td>  339</td>\n",
        "    </tr>\n",
        "    <tr>\n",
        "      <th>2</th>\n",
        "      <td>  completed</td>\n",
        "      <td> 8</td>\n",
        "      <td>  683</td>\n",
        "    </tr>\n",
        "    <tr>\n",
        "      <th>3</th>\n",
        "      <td> fare_split</td>\n",
        "      <td> 8</td>\n",
        "      <td>  349</td>\n",
        "    </tr>\n",
        "    <tr>\n",
        "      <th>4</th>\n",
        "      <td>  completed</td>\n",
        "      <td> 8</td>\n",
        "      <td>  439</td>\n",
        "    </tr>\n",
        "  </tbody>\n",
        "</table>\n",
        "</div>"
       ],
       "metadata": {},
       "output_type": "pyout",
       "prompt_number": 14,
       "text": [
        "       status  request_vehicle_view_id  duration\n",
        "0   completed                        8      1074\n",
        "1   completed                        8       339\n",
        "2   completed                        8       683\n",
        "3  fare_split                        8       349\n",
        "4   completed                        8       439"
       ]
      }
     ],
     "prompt_number": 14
    },
    {
     "cell_type": "code",
     "collapsed": false,
     "input": [
      "columns = ['request_at', 'dropoff_at', 'actual_eta']"
     ],
     "language": "python",
     "metadata": {},
     "outputs": [],
     "prompt_number": 15
    },
    {
     "cell_type": "code",
     "collapsed": false,
     "input": [
      "data[columns].head()"
     ],
     "language": "python",
     "metadata": {},
     "outputs": [
      {
       "html": [
        "<div style=\"max-height:1000px;max-width:1500px;overflow:auto;\">\n",
        "<table border=\"1\" class=\"dataframe\">\n",
        "  <thead>\n",
        "    <tr style=\"text-align: right;\">\n",
        "      <th></th>\n",
        "      <th>request_at</th>\n",
        "      <th>dropoff_at</th>\n",
        "      <th>actual_eta</th>\n",
        "    </tr>\n",
        "  </thead>\n",
        "  <tbody>\n",
        "    <tr>\n",
        "      <th>0</th>\n",
        "      <td> 2014-11-18 18:36:00</td>\n",
        "      <td> 2014-11-18 18:58:45</td>\n",
        "      <td> 194</td>\n",
        "    </tr>\n",
        "    <tr>\n",
        "      <th>1</th>\n",
        "      <td> 2014-11-19 17:23:01</td>\n",
        "      <td> 2014-11-19 17:36:29</td>\n",
        "      <td> 418</td>\n",
        "    </tr>\n",
        "    <tr>\n",
        "      <th>2</th>\n",
        "      <td> 2014-11-17 19:44:35</td>\n",
        "      <td> 2014-11-17 20:02:18</td>\n",
        "      <td> 157</td>\n",
        "    </tr>\n",
        "    <tr>\n",
        "      <th>3</th>\n",
        "      <td> 2014-11-17 22:27:33</td>\n",
        "      <td> 2014-11-17 22:35:43</td>\n",
        "      <td> NaN</td>\n",
        "    </tr>\n",
        "    <tr>\n",
        "      <th>4</th>\n",
        "      <td> 2014-11-18 18:35:00</td>\n",
        "      <td> 2014-11-18 18:46:11</td>\n",
        "      <td> 110</td>\n",
        "    </tr>\n",
        "  </tbody>\n",
        "</table>\n",
        "</div>"
       ],
       "metadata": {},
       "output_type": "pyout",
       "prompt_number": 16,
       "text": [
        "            request_at           dropoff_at  actual_eta\n",
        "0  2014-11-18 18:36:00  2014-11-18 18:58:45         194\n",
        "1  2014-11-19 17:23:01  2014-11-19 17:36:29         418\n",
        "2  2014-11-17 19:44:35  2014-11-17 20:02:18         157\n",
        "3  2014-11-17 22:27:33  2014-11-17 22:35:43         NaN\n",
        "4  2014-11-18 18:35:00  2014-11-18 18:46:11         110"
       ]
      }
     ],
     "prompt_number": 16
    },
    {
     "cell_type": "code",
     "collapsed": false,
     "input": [
      "data.head(7) # You can specify the # of items and it'll retrieve that many"
     ],
     "language": "python",
     "metadata": {},
     "outputs": [
      {
       "html": [
        "<div style=\"max-height:1000px;max-width:1500px;overflow:auto;\">\n",
        "<table border=\"1\" class=\"dataframe\">\n",
        "  <thead>\n",
        "    <tr style=\"text-align: right;\">\n",
        "      <th></th>\n",
        "      <th>uuid</th>\n",
        "      <th>status</th>\n",
        "      <th>request_at</th>\n",
        "      <th>request_lat</th>\n",
        "      <th>request_lng</th>\n",
        "      <th>dropoff_at</th>\n",
        "      <th>dropoff_lat</th>\n",
        "      <th>dropoff_lng</th>\n",
        "      <th>predicted_eta</th>\n",
        "      <th>actual_eta</th>\n",
        "      <th>request_vehicle_view_id</th>\n",
        "      <th>duration</th>\n",
        "      <th>distance</th>\n",
        "      <th>fare</th>\n",
        "      <th>multiplier</th>\n",
        "    </tr>\n",
        "  </thead>\n",
        "  <tbody>\n",
        "    <tr>\n",
        "      <th>0</th>\n",
        "      <td> 7d7e7379-cda2-42a5-b0bc-cf7b7e0e0d01</td>\n",
        "      <td>  completed</td>\n",
        "      <td> 2014-11-18 18:36:00</td>\n",
        "      <td> 37.774002</td>\n",
        "      <td>-122.415553</td>\n",
        "      <td> 2014-11-18 18:58:45</td>\n",
        "      <td> 37.806186</td>\n",
        "      <td>-122.410399</td>\n",
        "      <td>  77</td>\n",
        "      <td> 194</td>\n",
        "      <td> 8</td>\n",
        "      <td> 1074</td>\n",
        "      <td> 3.687849</td>\n",
        "      <td> 12.64</td>\n",
        "      <td>NaN</td>\n",
        "    </tr>\n",
        "    <tr>\n",
        "      <th>1</th>\n",
        "      <td> 7da8b175-419d-4521-bedf-34eb06b05d32</td>\n",
        "      <td>  completed</td>\n",
        "      <td> 2014-11-19 17:23:01</td>\n",
        "      <td> 37.735025</td>\n",
        "      <td>-122.399623</td>\n",
        "      <td> 2014-11-19 17:36:29</td>\n",
        "      <td> 37.726226</td>\n",
        "      <td>-122.403121</td>\n",
        "      <td> 329</td>\n",
        "      <td> 418</td>\n",
        "      <td> 8</td>\n",
        "      <td>  339</td>\n",
        "      <td> 0.902479</td>\n",
        "      <td>  5.84</td>\n",
        "      <td>NaN</td>\n",
        "    </tr>\n",
        "    <tr>\n",
        "      <th>2</th>\n",
        "      <td> 7e30d7ba-cd6d-45d0-ad24-725f4b7fad01</td>\n",
        "      <td>  completed</td>\n",
        "      <td> 2014-11-17 19:44:35</td>\n",
        "      <td> 37.798089</td>\n",
        "      <td>-122.448235</td>\n",
        "      <td> 2014-11-17 20:02:18</td>\n",
        "      <td> 37.803222</td>\n",
        "      <td>-122.402930</td>\n",
        "      <td> 225</td>\n",
        "      <td> 157</td>\n",
        "      <td> 8</td>\n",
        "      <td>  683</td>\n",
        "      <td> 3.298243</td>\n",
        "      <td> 10.45</td>\n",
        "      <td>NaN</td>\n",
        "    </tr>\n",
        "    <tr>\n",
        "      <th>3</th>\n",
        "      <td> 7e578860-3268-4486-97ea-303513606d2d</td>\n",
        "      <td> fare_split</td>\n",
        "      <td> 2014-11-17 22:27:33</td>\n",
        "      <td> 37.321635</td>\n",
        "      <td>-121.947820</td>\n",
        "      <td> 2014-11-17 22:35:43</td>\n",
        "      <td>       NaN</td>\n",
        "      <td>        NaN</td>\n",
        "      <td> NaN</td>\n",
        "      <td> NaN</td>\n",
        "      <td> 8</td>\n",
        "      <td>  349</td>\n",
        "      <td> 2.607375</td>\n",
        "      <td>  8.60</td>\n",
        "      <td>NaN</td>\n",
        "    </tr>\n",
        "    <tr>\n",
        "      <th>4</th>\n",
        "      <td> 7e7da380-5b8d-4e79-ad19-faed9fdb1d3d</td>\n",
        "      <td>  completed</td>\n",
        "      <td> 2014-11-18 18:35:00</td>\n",
        "      <td> 37.803039</td>\n",
        "      <td>-122.416453</td>\n",
        "      <td> 2014-11-18 18:46:11</td>\n",
        "      <td> 37.798784</td>\n",
        "      <td>-122.399291</td>\n",
        "      <td> 189</td>\n",
        "      <td> 110</td>\n",
        "      <td> 8</td>\n",
        "      <td>  439</td>\n",
        "      <td> 1.573876</td>\n",
        "      <td>  7.15</td>\n",
        "      <td>NaN</td>\n",
        "    </tr>\n",
        "    <tr>\n",
        "      <th>5</th>\n",
        "      <td> 7ec72f67-c132-4c34-ab36-a6a789940d22</td>\n",
        "      <td> fare_split</td>\n",
        "      <td> 2014-11-21 20:28:08</td>\n",
        "      <td> 37.799250</td>\n",
        "      <td>-122.403655</td>\n",
        "      <td> 2014-11-21 20:38:02</td>\n",
        "      <td>       NaN</td>\n",
        "      <td>        NaN</td>\n",
        "      <td> NaN</td>\n",
        "      <td> NaN</td>\n",
        "      <td> 8</td>\n",
        "      <td>  389</td>\n",
        "      <td> 1.159374</td>\n",
        "      <td>  6.90</td>\n",
        "      <td>NaN</td>\n",
        "    </tr>\n",
        "    <tr>\n",
        "      <th>6</th>\n",
        "      <td> 7edf7b5b-3760-4838-8788-cf0150c3dd0b</td>\n",
        "      <td>  completed</td>\n",
        "      <td> 2014-11-19 13:41:17</td>\n",
        "      <td> 37.787522</td>\n",
        "      <td>-122.422823</td>\n",
        "      <td> 2014-11-19 13:53:21</td>\n",
        "      <td> 37.794171</td>\n",
        "      <td>-122.403059</td>\n",
        "      <td>  98</td>\n",
        "      <td> 127</td>\n",
        "      <td> 8</td>\n",
        "      <td>  538</td>\n",
        "      <td> 1.949688</td>\n",
        "      <td>  8.06</td>\n",
        "      <td>NaN</td>\n",
        "    </tr>\n",
        "  </tbody>\n",
        "</table>\n",
        "</div>"
       ],
       "metadata": {},
       "output_type": "pyout",
       "prompt_number": 17,
       "text": [
        "                                   uuid      status           request_at  \\\n",
        "0  7d7e7379-cda2-42a5-b0bc-cf7b7e0e0d01   completed  2014-11-18 18:36:00   \n",
        "1  7da8b175-419d-4521-bedf-34eb06b05d32   completed  2014-11-19 17:23:01   \n",
        "2  7e30d7ba-cd6d-45d0-ad24-725f4b7fad01   completed  2014-11-17 19:44:35   \n",
        "3  7e578860-3268-4486-97ea-303513606d2d  fare_split  2014-11-17 22:27:33   \n",
        "4  7e7da380-5b8d-4e79-ad19-faed9fdb1d3d   completed  2014-11-18 18:35:00   \n",
        "5  7ec72f67-c132-4c34-ab36-a6a789940d22  fare_split  2014-11-21 20:28:08   \n",
        "6  7edf7b5b-3760-4838-8788-cf0150c3dd0b   completed  2014-11-19 13:41:17   \n",
        "\n",
        "   request_lat  request_lng           dropoff_at  dropoff_lat  dropoff_lng  \\\n",
        "0    37.774002  -122.415553  2014-11-18 18:58:45    37.806186  -122.410399   \n",
        "1    37.735025  -122.399623  2014-11-19 17:36:29    37.726226  -122.403121   \n",
        "2    37.798089  -122.448235  2014-11-17 20:02:18    37.803222  -122.402930   \n",
        "3    37.321635  -121.947820  2014-11-17 22:35:43          NaN          NaN   \n",
        "4    37.803039  -122.416453  2014-11-18 18:46:11    37.798784  -122.399291   \n",
        "5    37.799250  -122.403655  2014-11-21 20:38:02          NaN          NaN   \n",
        "6    37.787522  -122.422823  2014-11-19 13:53:21    37.794171  -122.403059   \n",
        "\n",
        "   predicted_eta  actual_eta  request_vehicle_view_id  duration  distance  \\\n",
        "0             77         194                        8      1074  3.687849   \n",
        "1            329         418                        8       339  0.902479   \n",
        "2            225         157                        8       683  3.298243   \n",
        "3            NaN         NaN                        8       349  2.607375   \n",
        "4            189         110                        8       439  1.573876   \n",
        "5            NaN         NaN                        8       389  1.159374   \n",
        "6             98         127                        8       538  1.949688   \n",
        "\n",
        "    fare  multiplier  \n",
        "0  12.64         NaN  \n",
        "1   5.84         NaN  \n",
        "2  10.45         NaN  \n",
        "3   8.60         NaN  \n",
        "4   7.15         NaN  \n",
        "5   6.90         NaN  \n",
        "6   8.06         NaN  "
       ]
      }
     ],
     "prompt_number": 17
    },
    {
     "cell_type": "code",
     "collapsed": false,
     "input": [
      "data.tail(3) # gets data from the end of the dataframe "
     ],
     "language": "python",
     "metadata": {},
     "outputs": [
      {
       "html": [
        "<div style=\"max-height:1000px;max-width:1500px;overflow:auto;\">\n",
        "<table border=\"1\" class=\"dataframe\">\n",
        "  <thead>\n",
        "    <tr style=\"text-align: right;\">\n",
        "      <th></th>\n",
        "      <th>uuid</th>\n",
        "      <th>status</th>\n",
        "      <th>request_at</th>\n",
        "      <th>request_lat</th>\n",
        "      <th>request_lng</th>\n",
        "      <th>dropoff_at</th>\n",
        "      <th>dropoff_lat</th>\n",
        "      <th>dropoff_lng</th>\n",
        "      <th>predicted_eta</th>\n",
        "      <th>actual_eta</th>\n",
        "      <th>request_vehicle_view_id</th>\n",
        "      <th>duration</th>\n",
        "      <th>distance</th>\n",
        "      <th>fare</th>\n",
        "      <th>multiplier</th>\n",
        "    </tr>\n",
        "  </thead>\n",
        "  <tbody>\n",
        "    <tr>\n",
        "      <th>999997</th>\n",
        "      <td> 5ea6287b-2898-4c5d-b429-e4c3429bc65e</td>\n",
        "      <td> completed</td>\n",
        "      <td> 2014-11-18 19:20:23</td>\n",
        "      <td> 37.780765</td>\n",
        "      <td>-122.390135</td>\n",
        "      <td> 2014-11-18 19:29:56</td>\n",
        "      <td> 37.775339</td>\n",
        "      <td>-122.389949</td>\n",
        "      <td>  73</td>\n",
        "      <td> 109</td>\n",
        "      <td> 8</td>\n",
        "      <td>  398</td>\n",
        "      <td> 0.723284</td>\n",
        "      <td>  9.26</td>\n",
        "      <td> 1.7</td>\n",
        "    </tr>\n",
        "    <tr>\n",
        "      <th>999998</th>\n",
        "      <td> 77f49cfc-ec39-4c0c-95b6-5569148c467f</td>\n",
        "      <td> completed</td>\n",
        "      <td> 2014-11-22 01:56:15</td>\n",
        "      <td> 37.763645</td>\n",
        "      <td>-122.434250</td>\n",
        "      <td> 2014-11-22 02:16:48</td>\n",
        "      <td> 37.787234</td>\n",
        "      <td>-122.409350</td>\n",
        "      <td> 313</td>\n",
        "      <td> 189</td>\n",
        "      <td> 8</td>\n",
        "      <td>  994</td>\n",
        "      <td> 6.423579</td>\n",
        "      <td> 27.75</td>\n",
        "      <td> 1.8</td>\n",
        "    </tr>\n",
        "    <tr>\n",
        "      <th>999999</th>\n",
        "      <td> 87e3b05b-de21-4d76-aba6-6439e6bad642</td>\n",
        "      <td> completed</td>\n",
        "      <td> 2014-11-20 19:28:10</td>\n",
        "      <td> 37.775472</td>\n",
        "      <td>-122.479357</td>\n",
        "      <td> 2014-11-20 19:51:41</td>\n",
        "      <td> 37.761402</td>\n",
        "      <td>-122.425794</td>\n",
        "      <td> 173</td>\n",
        "      <td> 114</td>\n",
        "      <td> 8</td>\n",
        "      <td> 1064</td>\n",
        "      <td> 4.007878</td>\n",
        "      <td> 21.44</td>\n",
        "      <td> 1.7</td>\n",
        "    </tr>\n",
        "  </tbody>\n",
        "</table>\n",
        "</div>"
       ],
       "metadata": {},
       "output_type": "pyout",
       "prompt_number": 18,
       "text": [
        "                                        uuid     status           request_at  \\\n",
        "999997  5ea6287b-2898-4c5d-b429-e4c3429bc65e  completed  2014-11-18 19:20:23   \n",
        "999998  77f49cfc-ec39-4c0c-95b6-5569148c467f  completed  2014-11-22 01:56:15   \n",
        "999999  87e3b05b-de21-4d76-aba6-6439e6bad642  completed  2014-11-20 19:28:10   \n",
        "\n",
        "        request_lat  request_lng           dropoff_at  dropoff_lat  \\\n",
        "999997    37.780765  -122.390135  2014-11-18 19:29:56    37.775339   \n",
        "999998    37.763645  -122.434250  2014-11-22 02:16:48    37.787234   \n",
        "999999    37.775472  -122.479357  2014-11-20 19:51:41    37.761402   \n",
        "\n",
        "        dropoff_lng  predicted_eta  actual_eta  request_vehicle_view_id  \\\n",
        "999997  -122.389949             73         109                        8   \n",
        "999998  -122.409350            313         189                        8   \n",
        "999999  -122.425794            173         114                        8   \n",
        "\n",
        "        duration  distance   fare  multiplier  \n",
        "999997       398  0.723284   9.26         1.7  \n",
        "999998       994  6.423579  27.75         1.8  \n",
        "999999      1064  4.007878  21.44         1.7  "
       ]
      }
     ],
     "prompt_number": 18
    },
    {
     "cell_type": "markdown",
     "metadata": {},
     "source": [
      "###What good is this if I want data from the middle?"
     ]
    },
    {
     "cell_type": "code",
     "collapsed": false,
     "input": [
      "data.iloc[50:55] # you can slice the dataframe like like a list with iloc "
     ],
     "language": "python",
     "metadata": {},
     "outputs": [
      {
       "html": [
        "<div style=\"max-height:1000px;max-width:1500px;overflow:auto;\">\n",
        "<table border=\"1\" class=\"dataframe\">\n",
        "  <thead>\n",
        "    <tr style=\"text-align: right;\">\n",
        "      <th></th>\n",
        "      <th>uuid</th>\n",
        "      <th>status</th>\n",
        "      <th>request_at</th>\n",
        "      <th>request_lat</th>\n",
        "      <th>request_lng</th>\n",
        "      <th>dropoff_at</th>\n",
        "      <th>dropoff_lat</th>\n",
        "      <th>dropoff_lng</th>\n",
        "      <th>predicted_eta</th>\n",
        "      <th>actual_eta</th>\n",
        "      <th>request_vehicle_view_id</th>\n",
        "      <th>duration</th>\n",
        "      <th>distance</th>\n",
        "      <th>fare</th>\n",
        "      <th>multiplier</th>\n",
        "    </tr>\n",
        "  </thead>\n",
        "  <tbody>\n",
        "    <tr>\n",
        "      <th>50</th>\n",
        "      <td> 7e773284-62f8-4313-80cb-0941bb00137f</td>\n",
        "      <td> completed</td>\n",
        "      <td> 2014-11-15 01:00:59</td>\n",
        "      <td> 37.788086</td>\n",
        "      <td>-122.419589</td>\n",
        "      <td> 2014-11-15 01:12:06</td>\n",
        "      <td> 37.787835</td>\n",
        "      <td>-122.440348</td>\n",
        "      <td>  67</td>\n",
        "      <td>  38</td>\n",
        "      <td>    8</td>\n",
        "      <td>  403</td>\n",
        "      <td> 1.315642</td>\n",
        "      <td>  6.66</td>\n",
        "      <td>NaN</td>\n",
        "    </tr>\n",
        "    <tr>\n",
        "      <th>51</th>\n",
        "      <td> 02e00c54-8da8-4390-a40d-05fbbb6c7345</td>\n",
        "      <td> completed</td>\n",
        "      <td> 2014-11-15 00:17:27</td>\n",
        "      <td> 37.781553</td>\n",
        "      <td>-122.432655</td>\n",
        "      <td> 2014-11-15 01:00:15</td>\n",
        "      <td> 37.782047</td>\n",
        "      <td>-122.463237</td>\n",
        "      <td>  88</td>\n",
        "      <td>  64</td>\n",
        "      <td>    8</td>\n",
        "      <td> 2393</td>\n",
        "      <td> 1.945289</td>\n",
        "      <td> 16.10</td>\n",
        "      <td>NaN</td>\n",
        "    </tr>\n",
        "    <tr>\n",
        "      <th>52</th>\n",
        "      <td> 5ba26b85-de62-4e9b-8b3e-389df48d05cc</td>\n",
        "      <td> completed</td>\n",
        "      <td> 2014-11-15 00:51:40</td>\n",
        "      <td> 37.789529</td>\n",
        "      <td>-122.394193</td>\n",
        "      <td> 2014-11-15 01:00:28</td>\n",
        "      <td> 37.789757</td>\n",
        "      <td>-122.412652</td>\n",
        "      <td>  72</td>\n",
        "      <td>  83</td>\n",
        "      <td> 1491</td>\n",
        "      <td>  374</td>\n",
        "      <td> 1.463732</td>\n",
        "      <td>  6.72</td>\n",
        "      <td>NaN</td>\n",
        "    </tr>\n",
        "    <tr>\n",
        "      <th>53</th>\n",
        "      <td> 08b6a9b2-c6ae-4da4-acf9-3377d7015cf0</td>\n",
        "      <td>  canceled</td>\n",
        "      <td> 2014-11-15 01:38:27</td>\n",
        "      <td> 37.798834</td>\n",
        "      <td>-122.435945</td>\n",
        "      <td>                 NaN</td>\n",
        "      <td> 37.798724</td>\n",
        "      <td>-122.435856</td>\n",
        "      <td> 234</td>\n",
        "      <td> 146</td>\n",
        "      <td> 1491</td>\n",
        "      <td>   12</td>\n",
        "      <td> 0.000000</td>\n",
        "      <td>  5.00</td>\n",
        "      <td>NaN</td>\n",
        "    </tr>\n",
        "    <tr>\n",
        "      <th>54</th>\n",
        "      <td> fcdafc7b-dab1-4f1d-98ba-407288a9287b</td>\n",
        "      <td> completed</td>\n",
        "      <td> 2014-11-15 02:38:18</td>\n",
        "      <td> 37.422332</td>\n",
        "      <td>-122.172172</td>\n",
        "      <td> 2014-11-15 03:05:48</td>\n",
        "      <td> 37.463946</td>\n",
        "      <td>-122.240589</td>\n",
        "      <td> 322</td>\n",
        "      <td> 277</td>\n",
        "      <td>    8</td>\n",
        "      <td> 1286</td>\n",
        "      <td> 8.581816</td>\n",
        "      <td> 19.93</td>\n",
        "      <td>NaN</td>\n",
        "    </tr>\n",
        "  </tbody>\n",
        "</table>\n",
        "</div>"
       ],
       "metadata": {},
       "output_type": "pyout",
       "prompt_number": 19,
       "text": [
        "                                    uuid     status           request_at  \\\n",
        "50  7e773284-62f8-4313-80cb-0941bb00137f  completed  2014-11-15 01:00:59   \n",
        "51  02e00c54-8da8-4390-a40d-05fbbb6c7345  completed  2014-11-15 00:17:27   \n",
        "52  5ba26b85-de62-4e9b-8b3e-389df48d05cc  completed  2014-11-15 00:51:40   \n",
        "53  08b6a9b2-c6ae-4da4-acf9-3377d7015cf0   canceled  2014-11-15 01:38:27   \n",
        "54  fcdafc7b-dab1-4f1d-98ba-407288a9287b  completed  2014-11-15 02:38:18   \n",
        "\n",
        "    request_lat  request_lng           dropoff_at  dropoff_lat  dropoff_lng  \\\n",
        "50    37.788086  -122.419589  2014-11-15 01:12:06    37.787835  -122.440348   \n",
        "51    37.781553  -122.432655  2014-11-15 01:00:15    37.782047  -122.463237   \n",
        "52    37.789529  -122.394193  2014-11-15 01:00:28    37.789757  -122.412652   \n",
        "53    37.798834  -122.435945                  NaN    37.798724  -122.435856   \n",
        "54    37.422332  -122.172172  2014-11-15 03:05:48    37.463946  -122.240589   \n",
        "\n",
        "    predicted_eta  actual_eta  request_vehicle_view_id  duration  distance  \\\n",
        "50             67          38                        8       403  1.315642   \n",
        "51             88          64                        8      2393  1.945289   \n",
        "52             72          83                     1491       374  1.463732   \n",
        "53            234         146                     1491        12  0.000000   \n",
        "54            322         277                        8      1286  8.581816   \n",
        "\n",
        "     fare  multiplier  \n",
        "50   6.66         NaN  \n",
        "51  16.10         NaN  \n",
        "52   6.72         NaN  \n",
        "53   5.00         NaN  \n",
        "54  19.93         NaN  "
       ]
      }
     ],
     "prompt_number": 19
    },
    {
     "cell_type": "markdown",
     "metadata": {},
     "source": [
      "#Boolean Indexing\n",
      "\n",
      "_____\n",
      "\n",
      "What if I only want completed trips?"
     ]
    },
    {
     "cell_type": "code",
     "collapsed": false,
     "input": [
      "(data.status == 'completed').head()"
     ],
     "language": "python",
     "metadata": {},
     "outputs": [
      {
       "metadata": {},
       "output_type": "pyout",
       "prompt_number": 20,
       "text": [
        "0     True\n",
        "1     True\n",
        "2     True\n",
        "3    False\n",
        "4     True\n",
        "Name: status, dtype: bool"
       ]
      }
     ],
     "prompt_number": 20
    },
    {
     "cell_type": "code",
     "collapsed": false,
     "input": [
      "boolean_foo = (data.status == 'completed')"
     ],
     "language": "python",
     "metadata": {},
     "outputs": [],
     "prompt_number": 21
    },
    {
     "cell_type": "code",
     "collapsed": false,
     "input": [
      "data[boolean_foo].shape"
     ],
     "language": "python",
     "metadata": {},
     "outputs": [
      {
       "metadata": {},
       "output_type": "pyout",
       "prompt_number": 22,
       "text": [
        "(818607, 15)"
       ]
      }
     ],
     "prompt_number": 22
    },
    {
     "cell_type": "code",
     "collapsed": false,
     "input": [
      "data.shape"
     ],
     "language": "python",
     "metadata": {},
     "outputs": [
      {
       "metadata": {},
       "output_type": "pyout",
       "prompt_number": 23,
       "text": [
        "(1000000, 15)"
       ]
      }
     ],
     "prompt_number": 23
    },
    {
     "cell_type": "code",
     "collapsed": false,
     "input": [
      "data[data.status == 'completed'].shape"
     ],
     "language": "python",
     "metadata": {},
     "outputs": [
      {
       "metadata": {},
       "output_type": "pyout",
       "prompt_number": 24,
       "text": [
        "(818607, 15)"
       ]
      }
     ],
     "prompt_number": 24
    },
    {
     "cell_type": "code",
     "collapsed": false,
     "input": [
      "data[data.status == 'completed'].loc[40:45] # calls the index with the names 40,41, 42, 43 ,44 "
     ],
     "language": "python",
     "metadata": {},
     "outputs": [
      {
       "ename": "KeyError",
       "evalue": "'start bound [40] is not the [index]'",
       "output_type": "pyerr",
       "traceback": [
        "\u001b[0;31m---------------------------------------------------------------------------\u001b[0m\n\u001b[0;31mKeyError\u001b[0m                                  Traceback (most recent call last)",
        "\u001b[0;32m<ipython-input-25-4b7aac9ef97c>\u001b[0m in \u001b[0;36m<module>\u001b[0;34m()\u001b[0m\n\u001b[0;32m----> 1\u001b[0;31m \u001b[0mdata\u001b[0m\u001b[0;34m[\u001b[0m\u001b[0mdata\u001b[0m\u001b[0;34m.\u001b[0m\u001b[0mstatus\u001b[0m \u001b[0;34m==\u001b[0m \u001b[0;34m'completed'\u001b[0m\u001b[0;34m]\u001b[0m\u001b[0;34m.\u001b[0m\u001b[0mloc\u001b[0m\u001b[0;34m[\u001b[0m\u001b[0;36m40\u001b[0m\u001b[0;34m:\u001b[0m\u001b[0;36m45\u001b[0m\u001b[0;34m]\u001b[0m \u001b[0;31m# calls the index with the names 40,41, 42, 43 ,44\u001b[0m\u001b[0;34m\u001b[0m\u001b[0m\n\u001b[0m",
        "\u001b[0;32m/Users/justinnmccarty/anaconda/lib/python2.7/site-packages/pandas/core/indexing.pyc\u001b[0m in \u001b[0;36m__getitem__\u001b[0;34m(self, key)\u001b[0m\n\u001b[1;32m   1142\u001b[0m             \u001b[0;32mreturn\u001b[0m \u001b[0mself\u001b[0m\u001b[0;34m.\u001b[0m\u001b[0m_getitem_tuple\u001b[0m\u001b[0;34m(\u001b[0m\u001b[0mkey\u001b[0m\u001b[0;34m)\u001b[0m\u001b[0;34m\u001b[0m\u001b[0m\n\u001b[1;32m   1143\u001b[0m         \u001b[0;32melse\u001b[0m\u001b[0;34m:\u001b[0m\u001b[0;34m\u001b[0m\u001b[0m\n\u001b[0;32m-> 1144\u001b[0;31m             \u001b[0;32mreturn\u001b[0m \u001b[0mself\u001b[0m\u001b[0;34m.\u001b[0m\u001b[0m_getitem_axis\u001b[0m\u001b[0;34m(\u001b[0m\u001b[0mkey\u001b[0m\u001b[0;34m,\u001b[0m \u001b[0maxis\u001b[0m\u001b[0;34m=\u001b[0m\u001b[0;36m0\u001b[0m\u001b[0;34m)\u001b[0m\u001b[0;34m\u001b[0m\u001b[0m\n\u001b[0m\u001b[1;32m   1145\u001b[0m \u001b[0;34m\u001b[0m\u001b[0m\n\u001b[1;32m   1146\u001b[0m     \u001b[0;32mdef\u001b[0m \u001b[0m_getitem_axis\u001b[0m\u001b[0;34m(\u001b[0m\u001b[0mself\u001b[0m\u001b[0;34m,\u001b[0m \u001b[0mkey\u001b[0m\u001b[0;34m,\u001b[0m \u001b[0maxis\u001b[0m\u001b[0;34m=\u001b[0m\u001b[0;36m0\u001b[0m\u001b[0;34m,\u001b[0m \u001b[0mvalidate_iterable\u001b[0m\u001b[0;34m=\u001b[0m\u001b[0mFalse\u001b[0m\u001b[0;34m)\u001b[0m\u001b[0;34m:\u001b[0m\u001b[0;34m\u001b[0m\u001b[0m\n",
        "\u001b[0;32m/Users/justinnmccarty/anaconda/lib/python2.7/site-packages/pandas/core/indexing.pyc\u001b[0m in \u001b[0;36m_getitem_axis\u001b[0;34m(self, key, axis, validate_iterable)\u001b[0m\n\u001b[1;32m   1255\u001b[0m \u001b[0;34m\u001b[0m\u001b[0m\n\u001b[1;32m   1256\u001b[0m         \u001b[0;32mif\u001b[0m \u001b[0misinstance\u001b[0m\u001b[0;34m(\u001b[0m\u001b[0mkey\u001b[0m\u001b[0;34m,\u001b[0m \u001b[0mslice\u001b[0m\u001b[0;34m)\u001b[0m\u001b[0;34m:\u001b[0m\u001b[0;34m\u001b[0m\u001b[0m\n\u001b[0;32m-> 1257\u001b[0;31m             \u001b[0mself\u001b[0m\u001b[0;34m.\u001b[0m\u001b[0m_has_valid_type\u001b[0m\u001b[0;34m(\u001b[0m\u001b[0mkey\u001b[0m\u001b[0;34m,\u001b[0m \u001b[0maxis\u001b[0m\u001b[0;34m)\u001b[0m\u001b[0;34m\u001b[0m\u001b[0m\n\u001b[0m\u001b[1;32m   1258\u001b[0m             \u001b[0;32mreturn\u001b[0m \u001b[0mself\u001b[0m\u001b[0;34m.\u001b[0m\u001b[0m_get_slice_axis\u001b[0m\u001b[0;34m(\u001b[0m\u001b[0mkey\u001b[0m\u001b[0;34m,\u001b[0m \u001b[0maxis\u001b[0m\u001b[0;34m=\u001b[0m\u001b[0maxis\u001b[0m\u001b[0;34m)\u001b[0m\u001b[0;34m\u001b[0m\u001b[0m\n\u001b[1;32m   1259\u001b[0m         \u001b[0;32melif\u001b[0m \u001b[0mcom\u001b[0m\u001b[0;34m.\u001b[0m\u001b[0m_is_bool_indexer\u001b[0m\u001b[0;34m(\u001b[0m\u001b[0mkey\u001b[0m\u001b[0;34m)\u001b[0m\u001b[0;34m:\u001b[0m\u001b[0;34m\u001b[0m\u001b[0m\n",
        "\u001b[0;32m/Users/justinnmccarty/anaconda/lib/python2.7/site-packages/pandas/core/indexing.pyc\u001b[0m in \u001b[0;36m_has_valid_type\u001b[0;34m(self, key, axis)\u001b[0m\n\u001b[1;32m   1200\u001b[0m                         raise KeyError(\n\u001b[1;32m   1201\u001b[0m                             \u001b[0;34m\"start bound [%s] is not the [%s]\"\u001b[0m \u001b[0;34m%\u001b[0m\u001b[0;34m\u001b[0m\u001b[0m\n\u001b[0;32m-> 1202\u001b[0;31m                             \u001b[0;34m(\u001b[0m\u001b[0mkey\u001b[0m\u001b[0;34m.\u001b[0m\u001b[0mstart\u001b[0m\u001b[0;34m,\u001b[0m \u001b[0mself\u001b[0m\u001b[0;34m.\u001b[0m\u001b[0mobj\u001b[0m\u001b[0;34m.\u001b[0m\u001b[0m_get_axis_name\u001b[0m\u001b[0;34m(\u001b[0m\u001b[0maxis\u001b[0m\u001b[0;34m)\u001b[0m\u001b[0;34m)\u001b[0m\u001b[0;34m\u001b[0m\u001b[0m\n\u001b[0m\u001b[1;32m   1203\u001b[0m                         )\n\u001b[1;32m   1204\u001b[0m                 \u001b[0;32mif\u001b[0m \u001b[0mkey\u001b[0m\u001b[0;34m.\u001b[0m\u001b[0mstop\u001b[0m \u001b[0;32mis\u001b[0m \u001b[0;32mnot\u001b[0m \u001b[0mNone\u001b[0m\u001b[0;34m:\u001b[0m\u001b[0;34m\u001b[0m\u001b[0m\n",
        "\u001b[0;31mKeyError\u001b[0m: 'start bound [40] is not the [index]'"
       ]
      }
     ],
     "prompt_number": 25
    },
    {
     "cell_type": "code",
     "collapsed": false,
     "input": [
      "data[data.status == 'completed'].iloc[40:45] # calls the actual row of the df ignoring the index value."
     ],
     "language": "python",
     "metadata": {},
     "outputs": [
      {
       "html": [
        "<div style=\"max-height:1000px;max-width:1500px;overflow:auto;\">\n",
        "<table border=\"1\" class=\"dataframe\">\n",
        "  <thead>\n",
        "    <tr style=\"text-align: right;\">\n",
        "      <th></th>\n",
        "      <th>uuid</th>\n",
        "      <th>status</th>\n",
        "      <th>request_at</th>\n",
        "      <th>request_lat</th>\n",
        "      <th>request_lng</th>\n",
        "      <th>dropoff_at</th>\n",
        "      <th>dropoff_lat</th>\n",
        "      <th>dropoff_lng</th>\n",
        "      <th>predicted_eta</th>\n",
        "      <th>actual_eta</th>\n",
        "      <th>request_vehicle_view_id</th>\n",
        "      <th>duration</th>\n",
        "      <th>distance</th>\n",
        "      <th>fare</th>\n",
        "      <th>multiplier</th>\n",
        "    </tr>\n",
        "  </thead>\n",
        "  <tbody>\n",
        "    <tr>\n",
        "      <th>50</th>\n",
        "      <td> 7e773284-62f8-4313-80cb-0941bb00137f</td>\n",
        "      <td> completed</td>\n",
        "      <td> 2014-11-15 01:00:59</td>\n",
        "      <td> 37.788086</td>\n",
        "      <td>-122.419589</td>\n",
        "      <td> 2014-11-15 01:12:06</td>\n",
        "      <td> 37.787835</td>\n",
        "      <td>-122.440348</td>\n",
        "      <td>  67</td>\n",
        "      <td>  38</td>\n",
        "      <td>    8</td>\n",
        "      <td>  403</td>\n",
        "      <td> 1.315642</td>\n",
        "      <td>  6.66</td>\n",
        "      <td>NaN</td>\n",
        "    </tr>\n",
        "    <tr>\n",
        "      <th>51</th>\n",
        "      <td> 02e00c54-8da8-4390-a40d-05fbbb6c7345</td>\n",
        "      <td> completed</td>\n",
        "      <td> 2014-11-15 00:17:27</td>\n",
        "      <td> 37.781553</td>\n",
        "      <td>-122.432655</td>\n",
        "      <td> 2014-11-15 01:00:15</td>\n",
        "      <td> 37.782047</td>\n",
        "      <td>-122.463237</td>\n",
        "      <td>  88</td>\n",
        "      <td>  64</td>\n",
        "      <td>    8</td>\n",
        "      <td> 2393</td>\n",
        "      <td> 1.945289</td>\n",
        "      <td> 16.10</td>\n",
        "      <td>NaN</td>\n",
        "    </tr>\n",
        "    <tr>\n",
        "      <th>52</th>\n",
        "      <td> 5ba26b85-de62-4e9b-8b3e-389df48d05cc</td>\n",
        "      <td> completed</td>\n",
        "      <td> 2014-11-15 00:51:40</td>\n",
        "      <td> 37.789529</td>\n",
        "      <td>-122.394193</td>\n",
        "      <td> 2014-11-15 01:00:28</td>\n",
        "      <td> 37.789757</td>\n",
        "      <td>-122.412652</td>\n",
        "      <td>  72</td>\n",
        "      <td>  83</td>\n",
        "      <td> 1491</td>\n",
        "      <td>  374</td>\n",
        "      <td> 1.463732</td>\n",
        "      <td>  6.72</td>\n",
        "      <td>NaN</td>\n",
        "    </tr>\n",
        "    <tr>\n",
        "      <th>54</th>\n",
        "      <td> fcdafc7b-dab1-4f1d-98ba-407288a9287b</td>\n",
        "      <td> completed</td>\n",
        "      <td> 2014-11-15 02:38:18</td>\n",
        "      <td> 37.422332</td>\n",
        "      <td>-122.172172</td>\n",
        "      <td> 2014-11-15 03:05:48</td>\n",
        "      <td> 37.463946</td>\n",
        "      <td>-122.240589</td>\n",
        "      <td> 322</td>\n",
        "      <td> 277</td>\n",
        "      <td>    8</td>\n",
        "      <td> 1286</td>\n",
        "      <td> 8.581816</td>\n",
        "      <td> 19.93</td>\n",
        "      <td>NaN</td>\n",
        "    </tr>\n",
        "    <tr>\n",
        "      <th>56</th>\n",
        "      <td> 84936030-5163-4b71-bc7b-ad8a8003eb96</td>\n",
        "      <td> completed</td>\n",
        "      <td> 2014-11-15 00:23:14</td>\n",
        "      <td> 37.868211</td>\n",
        "      <td>-122.259098</td>\n",
        "      <td> 2014-11-15 00:38:22</td>\n",
        "      <td> 37.853457</td>\n",
        "      <td>-122.269028</td>\n",
        "      <td> 388</td>\n",
        "      <td> 374</td>\n",
        "      <td>    8</td>\n",
        "      <td>  252</td>\n",
        "      <td> 1.139026</td>\n",
        "      <td>  5.77</td>\n",
        "      <td>NaN</td>\n",
        "    </tr>\n",
        "  </tbody>\n",
        "</table>\n",
        "</div>"
       ],
       "metadata": {},
       "output_type": "pyout",
       "prompt_number": 26,
       "text": [
        "                                    uuid     status           request_at  \\\n",
        "50  7e773284-62f8-4313-80cb-0941bb00137f  completed  2014-11-15 01:00:59   \n",
        "51  02e00c54-8da8-4390-a40d-05fbbb6c7345  completed  2014-11-15 00:17:27   \n",
        "52  5ba26b85-de62-4e9b-8b3e-389df48d05cc  completed  2014-11-15 00:51:40   \n",
        "54  fcdafc7b-dab1-4f1d-98ba-407288a9287b  completed  2014-11-15 02:38:18   \n",
        "56  84936030-5163-4b71-bc7b-ad8a8003eb96  completed  2014-11-15 00:23:14   \n",
        "\n",
        "    request_lat  request_lng           dropoff_at  dropoff_lat  dropoff_lng  \\\n",
        "50    37.788086  -122.419589  2014-11-15 01:12:06    37.787835  -122.440348   \n",
        "51    37.781553  -122.432655  2014-11-15 01:00:15    37.782047  -122.463237   \n",
        "52    37.789529  -122.394193  2014-11-15 01:00:28    37.789757  -122.412652   \n",
        "54    37.422332  -122.172172  2014-11-15 03:05:48    37.463946  -122.240589   \n",
        "56    37.868211  -122.259098  2014-11-15 00:38:22    37.853457  -122.269028   \n",
        "\n",
        "    predicted_eta  actual_eta  request_vehicle_view_id  duration  distance  \\\n",
        "50             67          38                        8       403  1.315642   \n",
        "51             88          64                        8      2393  1.945289   \n",
        "52             72          83                     1491       374  1.463732   \n",
        "54            322         277                        8      1286  8.581816   \n",
        "56            388         374                        8       252  1.139026   \n",
        "\n",
        "     fare  multiplier  \n",
        "50   6.66         NaN  \n",
        "51  16.10         NaN  \n",
        "52   6.72         NaN  \n",
        "54  19.93         NaN  \n",
        "56   5.77         NaN  "
       ]
      }
     ],
     "prompt_number": 26
    },
    {
     "cell_type": "code",
     "collapsed": false,
     "input": [
      "boolean_foo2 = (data.status == 'completed') & (data.fare > 50)"
     ],
     "language": "python",
     "metadata": {},
     "outputs": []
    },
    {
     "cell_type": "code",
     "collapsed": false,
     "input": [
      "data[boolean_foo2].shape"
     ],
     "language": "python",
     "metadata": {},
     "outputs": []
    },
    {
     "cell_type": "markdown",
     "metadata": {},
     "source": [
      "#Exercise!\n",
      "\n",
      "###How many uberpool matched trips had a fare that was > 50 dollars? \n",
      "\n",
      "uberpool matched trips are vehicle view id 1509"
     ]
    },
    {
     "cell_type": "code",
     "collapsed": false,
     "input": [
      "pooledplus = (data.request_vehicle_view_id == 1509) & (data.fare > 50)"
     ],
     "language": "python",
     "metadata": {},
     "outputs": [],
     "prompt_number": 28
    },
    {
     "cell_type": "code",
     "collapsed": false,
     "input": [
      "data[pooledplus].shape"
     ],
     "language": "python",
     "metadata": {},
     "outputs": [
      {
       "metadata": {},
       "output_type": "pyout",
       "prompt_number": 30,
       "text": [
        "(5, 15)"
       ]
      }
     ],
     "prompt_number": 30
    },
    {
     "cell_type": "code",
     "collapsed": false,
     "input": [
      "data[pooledplus].head()"
     ],
     "language": "python",
     "metadata": {},
     "outputs": [
      {
       "html": [
        "<div style=\"max-height:1000px;max-width:1500px;overflow:auto;\">\n",
        "<table border=\"1\" class=\"dataframe\">\n",
        "  <thead>\n",
        "    <tr style=\"text-align: right;\">\n",
        "      <th></th>\n",
        "      <th>uuid</th>\n",
        "      <th>status</th>\n",
        "      <th>request_at</th>\n",
        "      <th>request_lat</th>\n",
        "      <th>request_lng</th>\n",
        "      <th>dropoff_at</th>\n",
        "      <th>dropoff_lat</th>\n",
        "      <th>dropoff_lng</th>\n",
        "      <th>predicted_eta</th>\n",
        "      <th>actual_eta</th>\n",
        "      <th>request_vehicle_view_id</th>\n",
        "      <th>duration</th>\n",
        "      <th>distance</th>\n",
        "      <th>fare</th>\n",
        "      <th>multiplier</th>\n",
        "    </tr>\n",
        "  </thead>\n",
        "  <tbody>\n",
        "    <tr>\n",
        "      <th>517219</th>\n",
        "      <td> 72706e08-8ca0-48a1-98d3-a825c371047f</td>\n",
        "      <td> completed</td>\n",
        "      <td> 2014-11-23 16:09:00</td>\n",
        "      <td> 37.777249</td>\n",
        "      <td>-122.460220</td>\n",
        "      <td> 2014-11-23 17:29:00</td>\n",
        "      <td> 37.713402</td>\n",
        "      <td>-122.213971</td>\n",
        "      <td>  61</td>\n",
        "      <td>  36</td>\n",
        "      <td> 1509</td>\n",
        "      <td> 4654</td>\n",
        "      <td> 48.398998</td>\n",
        "      <td> 82.17</td>\n",
        "      <td> NaN</td>\n",
        "    </tr>\n",
        "    <tr>\n",
        "      <th>579918</th>\n",
        "      <td> 56ee3aba-3dc1-4439-b6cd-6851ffed8546</td>\n",
        "      <td> completed</td>\n",
        "      <td> 2014-11-23 04:46:06</td>\n",
        "      <td> 37.792388</td>\n",
        "      <td>-122.424778</td>\n",
        "      <td> 2014-11-23 05:49:32</td>\n",
        "      <td> 37.804135</td>\n",
        "      <td>-122.289801</td>\n",
        "      <td> 328</td>\n",
        "      <td> 209</td>\n",
        "      <td> 1509</td>\n",
        "      <td> 3564</td>\n",
        "      <td> 40.532933</td>\n",
        "      <td> 65.60</td>\n",
        "      <td> NaN</td>\n",
        "    </tr>\n",
        "    <tr>\n",
        "      <th>988499</th>\n",
        "      <td> 1b0db34c-d5b8-4ab6-9f52-62e74dae0bd5</td>\n",
        "      <td> completed</td>\n",
        "      <td> 2014-11-16 21:54:53</td>\n",
        "      <td> 37.616903</td>\n",
        "      <td>-122.384311</td>\n",
        "      <td> 2014-11-16 22:46:03</td>\n",
        "      <td> 37.803828</td>\n",
        "      <td>-122.427446</td>\n",
        "      <td> 109</td>\n",
        "      <td> 111</td>\n",
        "      <td> 1509</td>\n",
        "      <td> 2495</td>\n",
        "      <td> 18.804837</td>\n",
        "      <td> 68.83</td>\n",
        "      <td> 2.5</td>\n",
        "    </tr>\n",
        "    <tr>\n",
        "      <th>993269</th>\n",
        "      <td> f739d37e-bd05-4f31-8b1d-b21acb9ca0af</td>\n",
        "      <td> completed</td>\n",
        "      <td> 2014-11-20 18:54:23</td>\n",
        "      <td> 37.788905</td>\n",
        "      <td>-122.408648</td>\n",
        "      <td> 2014-11-20 19:53:03</td>\n",
        "      <td> 37.770481</td>\n",
        "      <td>-122.428767</td>\n",
        "      <td>  45</td>\n",
        "      <td>  15</td>\n",
        "      <td> 1509</td>\n",
        "      <td> 2221</td>\n",
        "      <td>  3.847258</td>\n",
        "      <td> 53.79</td>\n",
        "      <td> 4.7</td>\n",
        "    </tr>\n",
        "    <tr>\n",
        "      <th>999639</th>\n",
        "      <td> bcc1c349-bbb0-48b8-8cf6-2799dc775753</td>\n",
        "      <td> completed</td>\n",
        "      <td> 2014-11-19 15:45:50</td>\n",
        "      <td> 37.796931</td>\n",
        "      <td>-122.399358</td>\n",
        "      <td> 2014-11-19 16:51:19</td>\n",
        "      <td> 37.615231</td>\n",
        "      <td>-122.384699</td>\n",
        "      <td> 192</td>\n",
        "      <td>  80</td>\n",
        "      <td> 1509</td>\n",
        "      <td> 3220</td>\n",
        "      <td> 15.818900</td>\n",
        "      <td> 50.68</td>\n",
        "      <td> 1.4</td>\n",
        "    </tr>\n",
        "  </tbody>\n",
        "</table>\n",
        "</div>"
       ],
       "metadata": {},
       "output_type": "pyout",
       "prompt_number": 31,
       "text": [
        "                                        uuid     status           request_at  \\\n",
        "517219  72706e08-8ca0-48a1-98d3-a825c371047f  completed  2014-11-23 16:09:00   \n",
        "579918  56ee3aba-3dc1-4439-b6cd-6851ffed8546  completed  2014-11-23 04:46:06   \n",
        "988499  1b0db34c-d5b8-4ab6-9f52-62e74dae0bd5  completed  2014-11-16 21:54:53   \n",
        "993269  f739d37e-bd05-4f31-8b1d-b21acb9ca0af  completed  2014-11-20 18:54:23   \n",
        "999639  bcc1c349-bbb0-48b8-8cf6-2799dc775753  completed  2014-11-19 15:45:50   \n",
        "\n",
        "        request_lat  request_lng           dropoff_at  dropoff_lat  \\\n",
        "517219    37.777249  -122.460220  2014-11-23 17:29:00    37.713402   \n",
        "579918    37.792388  -122.424778  2014-11-23 05:49:32    37.804135   \n",
        "988499    37.616903  -122.384311  2014-11-16 22:46:03    37.803828   \n",
        "993269    37.788905  -122.408648  2014-11-20 19:53:03    37.770481   \n",
        "999639    37.796931  -122.399358  2014-11-19 16:51:19    37.615231   \n",
        "\n",
        "        dropoff_lng  predicted_eta  actual_eta  request_vehicle_view_id  \\\n",
        "517219  -122.213971             61          36                     1509   \n",
        "579918  -122.289801            328         209                     1509   \n",
        "988499  -122.427446            109         111                     1509   \n",
        "993269  -122.428767             45          15                     1509   \n",
        "999639  -122.384699            192          80                     1509   \n",
        "\n",
        "        duration   distance   fare  multiplier  \n",
        "517219      4654  48.398998  82.17         NaN  \n",
        "579918      3564  40.532933  65.60         NaN  \n",
        "988499      2495  18.804837  68.83         2.5  \n",
        "993269      2221   3.847258  53.79         4.7  \n",
        "999639      3220  15.818900  50.68         1.4  "
       ]
      }
     ],
     "prompt_number": 31
    },
    {
     "cell_type": "markdown",
     "metadata": {},
     "source": [
      "#Data Munging (cleaning up the data)"
     ]
    },
    {
     "cell_type": "code",
     "collapsed": false,
     "input": [
      "data.head()"
     ],
     "language": "python",
     "metadata": {},
     "outputs": []
    },
    {
     "cell_type": "code",
     "collapsed": false,
     "input": [
      "print data.request_at.iloc[0]\n",
      "print type(data.request_at.iloc[0])"
     ],
     "language": "python",
     "metadata": {},
     "outputs": []
    },
    {
     "cell_type": "code",
     "collapsed": false,
     "input": [
      "print data.multiplier.iloc[0]\n",
      "print type(data.multiplier.iloc[0])"
     ],
     "language": "python",
     "metadata": {},
     "outputs": []
    },
    {
     "cell_type": "code",
     "collapsed": false,
     "input": [
      "nums = [1.0, 3, 5, 10]"
     ],
     "language": "python",
     "metadata": {},
     "outputs": []
    },
    {
     "cell_type": "code",
     "collapsed": false,
     "input": [
      "np.mean(nums)"
     ],
     "language": "python",
     "metadata": {},
     "outputs": []
    },
    {
     "cell_type": "code",
     "collapsed": false,
     "input": [
      "nums.append(np.nan)"
     ],
     "language": "python",
     "metadata": {},
     "outputs": []
    },
    {
     "cell_type": "code",
     "collapsed": false,
     "input": [
      "nums"
     ],
     "language": "python",
     "metadata": {},
     "outputs": []
    },
    {
     "cell_type": "code",
     "collapsed": false,
     "input": [
      "np.mean(nums)"
     ],
     "language": "python",
     "metadata": {},
     "outputs": []
    },
    {
     "cell_type": "markdown",
     "metadata": {},
     "source": [
      "<h2> Problems Thus Far </h2>\n",
      "\n",
      "Date/Times are in string format\n",
      "\n",
      "we have some NaNs.  If we try to perform some stats on columns with nans, we get a nan.\n",
      "\n",
      "_____\n",
      "\n",
      "<h2> Lets clean up the Data a bit </h2>\n",
      "\n",
      "1) Convert Date/Times from a string into a Date/time format\n",
      "\n",
      "2) Replaces Nans in the multiplier column"
     ]
    },
    {
     "cell_type": "code",
     "collapsed": false,
     "input": [
      "# data.request_at vs data['request_at'] there is no difference.. with one caveat\n",
      "# data.request_at works for selecting data, but it does not work for assigning data\n",
      "# thus data.dropoff_at = pd.to_datetime(data.dropoff_at) will give you an error\n",
      "\n",
      "data['request_at'] = pd.to_datetime(data.request_at)  \n",
      "data['dropoff_at'] = pd.to_datetime(data['dropoff_at']) "
     ],
     "language": "python",
     "metadata": {},
     "outputs": [],
     "prompt_number": 32
    },
    {
     "cell_type": "code",
     "collapsed": false,
     "input": [
      "print data.request_at.iloc[0]\n",
      "print type(data.request_at.iloc[0])"
     ],
     "language": "python",
     "metadata": {},
     "outputs": [
      {
       "output_type": "stream",
       "stream": "stdout",
       "text": [
        "2014-11-18 18:36:00\n",
        "<class 'pandas.tslib.Timestamp'>\n"
       ]
      }
     ],
     "prompt_number": 33
    },
    {
     "cell_type": "code",
     "collapsed": false,
     "input": [
      "#guess what inplace=True does!\n",
      "\n",
      "data.multiplier.fillna(1, inplace=True)"
     ],
     "language": "python",
     "metadata": {},
     "outputs": [],
     "prompt_number": 34
    },
    {
     "cell_type": "code",
     "collapsed": false,
     "input": [
      "data.head()"
     ],
     "language": "python",
     "metadata": {},
     "outputs": [
      {
       "html": [
        "<div style=\"max-height:1000px;max-width:1500px;overflow:auto;\">\n",
        "<table border=\"1\" class=\"dataframe\">\n",
        "  <thead>\n",
        "    <tr style=\"text-align: right;\">\n",
        "      <th></th>\n",
        "      <th>uuid</th>\n",
        "      <th>status</th>\n",
        "      <th>request_at</th>\n",
        "      <th>request_lat</th>\n",
        "      <th>request_lng</th>\n",
        "      <th>dropoff_at</th>\n",
        "      <th>dropoff_lat</th>\n",
        "      <th>dropoff_lng</th>\n",
        "      <th>predicted_eta</th>\n",
        "      <th>actual_eta</th>\n",
        "      <th>request_vehicle_view_id</th>\n",
        "      <th>duration</th>\n",
        "      <th>distance</th>\n",
        "      <th>fare</th>\n",
        "      <th>multiplier</th>\n",
        "    </tr>\n",
        "  </thead>\n",
        "  <tbody>\n",
        "    <tr>\n",
        "      <th>0</th>\n",
        "      <td> 7d7e7379-cda2-42a5-b0bc-cf7b7e0e0d01</td>\n",
        "      <td>  completed</td>\n",
        "      <td>2014-11-18 18:36:00</td>\n",
        "      <td> 37.774002</td>\n",
        "      <td>-122.415553</td>\n",
        "      <td>2014-11-18 18:58:45</td>\n",
        "      <td> 37.806186</td>\n",
        "      <td>-122.410399</td>\n",
        "      <td>  77</td>\n",
        "      <td> 194</td>\n",
        "      <td> 8</td>\n",
        "      <td> 1074</td>\n",
        "      <td> 3.687849</td>\n",
        "      <td> 12.64</td>\n",
        "      <td> 1</td>\n",
        "    </tr>\n",
        "    <tr>\n",
        "      <th>1</th>\n",
        "      <td> 7da8b175-419d-4521-bedf-34eb06b05d32</td>\n",
        "      <td>  completed</td>\n",
        "      <td>2014-11-19 17:23:01</td>\n",
        "      <td> 37.735025</td>\n",
        "      <td>-122.399623</td>\n",
        "      <td>2014-11-19 17:36:29</td>\n",
        "      <td> 37.726226</td>\n",
        "      <td>-122.403121</td>\n",
        "      <td> 329</td>\n",
        "      <td> 418</td>\n",
        "      <td> 8</td>\n",
        "      <td>  339</td>\n",
        "      <td> 0.902479</td>\n",
        "      <td>  5.84</td>\n",
        "      <td> 1</td>\n",
        "    </tr>\n",
        "    <tr>\n",
        "      <th>2</th>\n",
        "      <td> 7e30d7ba-cd6d-45d0-ad24-725f4b7fad01</td>\n",
        "      <td>  completed</td>\n",
        "      <td>2014-11-17 19:44:35</td>\n",
        "      <td> 37.798089</td>\n",
        "      <td>-122.448235</td>\n",
        "      <td>2014-11-17 20:02:18</td>\n",
        "      <td> 37.803222</td>\n",
        "      <td>-122.402930</td>\n",
        "      <td> 225</td>\n",
        "      <td> 157</td>\n",
        "      <td> 8</td>\n",
        "      <td>  683</td>\n",
        "      <td> 3.298243</td>\n",
        "      <td> 10.45</td>\n",
        "      <td> 1</td>\n",
        "    </tr>\n",
        "    <tr>\n",
        "      <th>3</th>\n",
        "      <td> 7e578860-3268-4486-97ea-303513606d2d</td>\n",
        "      <td> fare_split</td>\n",
        "      <td>2014-11-17 22:27:33</td>\n",
        "      <td> 37.321635</td>\n",
        "      <td>-121.947820</td>\n",
        "      <td>2014-11-17 22:35:43</td>\n",
        "      <td>       NaN</td>\n",
        "      <td>        NaN</td>\n",
        "      <td> NaN</td>\n",
        "      <td> NaN</td>\n",
        "      <td> 8</td>\n",
        "      <td>  349</td>\n",
        "      <td> 2.607375</td>\n",
        "      <td>  8.60</td>\n",
        "      <td> 1</td>\n",
        "    </tr>\n",
        "    <tr>\n",
        "      <th>4</th>\n",
        "      <td> 7e7da380-5b8d-4e79-ad19-faed9fdb1d3d</td>\n",
        "      <td>  completed</td>\n",
        "      <td>2014-11-18 18:35:00</td>\n",
        "      <td> 37.803039</td>\n",
        "      <td>-122.416453</td>\n",
        "      <td>2014-11-18 18:46:11</td>\n",
        "      <td> 37.798784</td>\n",
        "      <td>-122.399291</td>\n",
        "      <td> 189</td>\n",
        "      <td> 110</td>\n",
        "      <td> 8</td>\n",
        "      <td>  439</td>\n",
        "      <td> 1.573876</td>\n",
        "      <td>  7.15</td>\n",
        "      <td> 1</td>\n",
        "    </tr>\n",
        "  </tbody>\n",
        "</table>\n",
        "</div>"
       ],
       "metadata": {},
       "output_type": "pyout",
       "prompt_number": 35,
       "text": [
        "                                   uuid      status          request_at  \\\n",
        "0  7d7e7379-cda2-42a5-b0bc-cf7b7e0e0d01   completed 2014-11-18 18:36:00   \n",
        "1  7da8b175-419d-4521-bedf-34eb06b05d32   completed 2014-11-19 17:23:01   \n",
        "2  7e30d7ba-cd6d-45d0-ad24-725f4b7fad01   completed 2014-11-17 19:44:35   \n",
        "3  7e578860-3268-4486-97ea-303513606d2d  fare_split 2014-11-17 22:27:33   \n",
        "4  7e7da380-5b8d-4e79-ad19-faed9fdb1d3d   completed 2014-11-18 18:35:00   \n",
        "\n",
        "   request_lat  request_lng          dropoff_at  dropoff_lat  dropoff_lng  \\\n",
        "0    37.774002  -122.415553 2014-11-18 18:58:45    37.806186  -122.410399   \n",
        "1    37.735025  -122.399623 2014-11-19 17:36:29    37.726226  -122.403121   \n",
        "2    37.798089  -122.448235 2014-11-17 20:02:18    37.803222  -122.402930   \n",
        "3    37.321635  -121.947820 2014-11-17 22:35:43          NaN          NaN   \n",
        "4    37.803039  -122.416453 2014-11-18 18:46:11    37.798784  -122.399291   \n",
        "\n",
        "   predicted_eta  actual_eta  request_vehicle_view_id  duration  distance  \\\n",
        "0             77         194                        8      1074  3.687849   \n",
        "1            329         418                        8       339  0.902479   \n",
        "2            225         157                        8       683  3.298243   \n",
        "3            NaN         NaN                        8       349  2.607375   \n",
        "4            189         110                        8       439  1.573876   \n",
        "\n",
        "    fare  multiplier  \n",
        "0  12.64           1  \n",
        "1   5.84           1  \n",
        "2  10.45           1  \n",
        "3   8.60           1  \n",
        "4   7.15           1  "
       ]
      }
     ],
     "prompt_number": 35
    },
    {
     "cell_type": "code",
     "collapsed": false,
     "input": [
      "data.request_at.min()"
     ],
     "language": "python",
     "metadata": {},
     "outputs": [
      {
       "metadata": {},
       "output_type": "pyout",
       "prompt_number": 36,
       "text": [
        "Timestamp('2014-11-15 00:00:01')"
       ]
      }
     ],
     "prompt_number": 36
    },
    {
     "cell_type": "code",
     "collapsed": false,
     "input": [
      "data.request_at.max()"
     ],
     "language": "python",
     "metadata": {},
     "outputs": [
      {
       "metadata": {},
       "output_type": "pyout",
       "prompt_number": 37,
       "text": [
        "Timestamp('2014-11-30 23:59:59')"
       ]
      }
     ],
     "prompt_number": 37
    },
    {
     "cell_type": "code",
     "collapsed": false,
     "input": [
      "data.sort('request_at', inplace = True)"
     ],
     "language": "python",
     "metadata": {},
     "outputs": [],
     "prompt_number": 38
    },
    {
     "cell_type": "code",
     "collapsed": false,
     "input": [
      "data.head()"
     ],
     "language": "python",
     "metadata": {},
     "outputs": [
      {
       "html": [
        "<div style=\"max-height:1000px;max-width:1500px;overflow:auto;\">\n",
        "<table border=\"1\" class=\"dataframe\">\n",
        "  <thead>\n",
        "    <tr style=\"text-align: right;\">\n",
        "      <th></th>\n",
        "      <th>uuid</th>\n",
        "      <th>status</th>\n",
        "      <th>request_at</th>\n",
        "      <th>request_lat</th>\n",
        "      <th>request_lng</th>\n",
        "      <th>dropoff_at</th>\n",
        "      <th>dropoff_lat</th>\n",
        "      <th>dropoff_lng</th>\n",
        "      <th>predicted_eta</th>\n",
        "      <th>actual_eta</th>\n",
        "      <th>request_vehicle_view_id</th>\n",
        "      <th>duration</th>\n",
        "      <th>distance</th>\n",
        "      <th>fare</th>\n",
        "      <th>multiplier</th>\n",
        "    </tr>\n",
        "  </thead>\n",
        "  <tbody>\n",
        "    <tr>\n",
        "      <th>313223</th>\n",
        "      <td> 0207859e-d812-43f9-95c6-408b01dab0ac</td>\n",
        "      <td>       completed</td>\n",
        "      <td>2014-11-15 00:00:01</td>\n",
        "      <td> 37.760296</td>\n",
        "      <td>-122.419151</td>\n",
        "      <td>2014-11-15 00:07:59</td>\n",
        "      <td> 37.754526</td>\n",
        "      <td>-122.420850</td>\n",
        "      <td>  95</td>\n",
        "      <td> 108</td>\n",
        "      <td>   1</td>\n",
        "      <td> 242</td>\n",
        "      <td> 0.861437</td>\n",
        "      <td> 15.00</td>\n",
        "      <td> 1</td>\n",
        "    </tr>\n",
        "    <tr>\n",
        "      <th>148326</th>\n",
        "      <td> 00402036-51f2-4793-a9ef-aae29b126e96</td>\n",
        "      <td>     unfulfilled</td>\n",
        "      <td>2014-11-15 00:00:01</td>\n",
        "      <td> 37.997599</td>\n",
        "      <td>-121.713769</td>\n",
        "      <td>                NaT</td>\n",
        "      <td>       NaN</td>\n",
        "      <td>        NaN</td>\n",
        "      <td> NaN</td>\n",
        "      <td> NaN</td>\n",
        "      <td> 942</td>\n",
        "      <td>   0</td>\n",
        "      <td> 0.000000</td>\n",
        "      <td>  0.00</td>\n",
        "      <td> 1</td>\n",
        "    </tr>\n",
        "    <tr>\n",
        "      <th>807103</th>\n",
        "      <td> bc6d69dd-b75e-4d5c-a486-87b6ba5324de</td>\n",
        "      <td>       completed</td>\n",
        "      <td>2014-11-15 00:00:02</td>\n",
        "      <td> 37.742335</td>\n",
        "      <td>-122.426627</td>\n",
        "      <td>2014-11-15 00:11:16</td>\n",
        "      <td> 37.731267</td>\n",
        "      <td>-122.396539</td>\n",
        "      <td> 107</td>\n",
        "      <td>  93</td>\n",
        "      <td>   8</td>\n",
        "      <td> 561</td>\n",
        "      <td> 2.340369</td>\n",
        "      <td>  8.67</td>\n",
        "      <td> 1</td>\n",
        "    </tr>\n",
        "    <tr>\n",
        "      <th>412706</th>\n",
        "      <td> 44d3e60a-3a89-40b6-bfa3-1229e69c058a</td>\n",
        "      <td> driver_canceled</td>\n",
        "      <td>2014-11-15 00:00:02</td>\n",
        "      <td> 37.774339</td>\n",
        "      <td>-122.426113</td>\n",
        "      <td>                NaT</td>\n",
        "      <td>       NaN</td>\n",
        "      <td>        NaN</td>\n",
        "      <td> 306</td>\n",
        "      <td> 294</td>\n",
        "      <td>   8</td>\n",
        "      <td>   0</td>\n",
        "      <td> 0.000000</td>\n",
        "      <td>  0.00</td>\n",
        "      <td> 1</td>\n",
        "    </tr>\n",
        "    <tr>\n",
        "      <th>308080</th>\n",
        "      <td> f36eb462-9289-40a1-90f8-e902edbeaf1a</td>\n",
        "      <td>       completed</td>\n",
        "      <td>2014-11-15 00:00:02</td>\n",
        "      <td> 37.783014</td>\n",
        "      <td>-122.463723</td>\n",
        "      <td>2014-11-15 00:11:33</td>\n",
        "      <td> 37.780194</td>\n",
        "      <td>-122.485714</td>\n",
        "      <td> 115</td>\n",
        "      <td> 177</td>\n",
        "      <td>   8</td>\n",
        "      <td> 374</td>\n",
        "      <td> 1.328185</td>\n",
        "      <td>  6.55</td>\n",
        "      <td> 1</td>\n",
        "    </tr>\n",
        "  </tbody>\n",
        "</table>\n",
        "</div>"
       ],
       "metadata": {},
       "output_type": "pyout",
       "prompt_number": 39,
       "text": [
        "                                        uuid           status  \\\n",
        "313223  0207859e-d812-43f9-95c6-408b01dab0ac        completed   \n",
        "148326  00402036-51f2-4793-a9ef-aae29b126e96      unfulfilled   \n",
        "807103  bc6d69dd-b75e-4d5c-a486-87b6ba5324de        completed   \n",
        "412706  44d3e60a-3a89-40b6-bfa3-1229e69c058a  driver_canceled   \n",
        "308080  f36eb462-9289-40a1-90f8-e902edbeaf1a        completed   \n",
        "\n",
        "                request_at  request_lat  request_lng          dropoff_at  \\\n",
        "313223 2014-11-15 00:00:01    37.760296  -122.419151 2014-11-15 00:07:59   \n",
        "148326 2014-11-15 00:00:01    37.997599  -121.713769                 NaT   \n",
        "807103 2014-11-15 00:00:02    37.742335  -122.426627 2014-11-15 00:11:16   \n",
        "412706 2014-11-15 00:00:02    37.774339  -122.426113                 NaT   \n",
        "308080 2014-11-15 00:00:02    37.783014  -122.463723 2014-11-15 00:11:33   \n",
        "\n",
        "        dropoff_lat  dropoff_lng  predicted_eta  actual_eta  \\\n",
        "313223    37.754526  -122.420850             95         108   \n",
        "148326          NaN          NaN            NaN         NaN   \n",
        "807103    37.731267  -122.396539            107          93   \n",
        "412706          NaN          NaN            306         294   \n",
        "308080    37.780194  -122.485714            115         177   \n",
        "\n",
        "        request_vehicle_view_id  duration  distance   fare  multiplier  \n",
        "313223                        1       242  0.861437  15.00           1  \n",
        "148326                      942         0  0.000000   0.00           1  \n",
        "807103                        8       561  2.340369   8.67           1  \n",
        "412706                        8         0  0.000000   0.00           1  \n",
        "308080                        8       374  1.328185   6.55           1  "
       ]
      }
     ],
     "prompt_number": 39
    },
    {
     "cell_type": "code",
     "collapsed": false,
     "input": [
      "data.request_at.describe()"
     ],
     "language": "python",
     "metadata": {},
     "outputs": [
      {
       "metadata": {},
       "output_type": "pyout",
       "prompt_number": 40,
       "text": [
        "count                 1000000\n",
        "unique                 642881\n",
        "first     2014-11-15 00:00:01\n",
        "last      2014-11-30 23:59:59\n",
        "top       2014-11-15 21:36:30\n",
        "freq                       12\n",
        "dtype: object"
       ]
      }
     ],
     "prompt_number": 40
    },
    {
     "cell_type": "code",
     "collapsed": false,
     "input": [
      "data.fare.describe()"
     ],
     "language": "python",
     "metadata": {},
     "outputs": [
      {
       "metadata": {},
       "output_type": "pyout",
       "prompt_number": 41,
       "text": [
        "count    1000000.000000\n",
        "mean          14.153144\n",
        "std           17.463367\n",
        "min            0.000000\n",
        "25%            6.090000\n",
        "50%            9.390000\n",
        "75%           15.870000\n",
        "max          881.500000\n",
        "dtype: float64"
       ]
      }
     ],
     "prompt_number": 41
    },
    {
     "cell_type": "code",
     "collapsed": false,
     "input": [
      "data.request_vehicle_view_id.value_counts()"
     ],
     "language": "python",
     "metadata": {},
     "outputs": [
      {
       "metadata": {},
       "output_type": "pyout",
       "prompt_number": 42,
       "text": [
        "8       811922\n",
        "1491     60046\n",
        "1        54120\n",
        "69       16689\n",
        "942      13399\n",
        "277      12441\n",
        "1509     12054\n",
        "2         8509\n",
        "278       5471\n",
        "2013      3537\n",
        "2056      1692\n",
        "1877       114\n",
        "1930         6\n",
        "dtype: int64"
       ]
      }
     ],
     "prompt_number": 42
    },
    {
     "cell_type": "markdown",
     "metadata": {},
     "source": [
      "#Exercise!!\n",
      "\n",
      "## How many different status types were there for uberX in SF? that is, how many unfulfilleds, completed, faresplit, etc\n",
      "\n",
      "### Extra: what is the minimum fare for a matched uberpool_trip (vvid = 1509)? unmatched (vvid = 1491)"
     ]
    },
    {
     "cell_type": "code",
     "collapsed": false,
     "input": [
      "matchedpool = (data.request_vehicle_view_id == 1509) & (data.status == 'completed')"
     ],
     "language": "python",
     "metadata": {},
     "outputs": [],
     "prompt_number": 49
    },
    {
     "cell_type": "code",
     "collapsed": false,
     "input": [
      "data[matchedpool].fare.describe()"
     ],
     "language": "python",
     "metadata": {},
     "outputs": [
      {
       "metadata": {},
       "output_type": "pyout",
       "prompt_number": 50,
       "text": [
        "count    9077.000000\n",
        "mean       10.638737\n",
        "std         6.487632\n",
        "min         2.500000\n",
        "25%         6.270000\n",
        "50%         8.440000\n",
        "75%        12.760000\n",
        "max        82.170000\n",
        "dtype: float64"
       ]
      }
     ],
     "prompt_number": 50
    },
    {
     "cell_type": "code",
     "collapsed": false,
     "input": [
      "unmatchedpool = (data.request_vehicle_view_id == 1491) & (data.status == 'completed')"
     ],
     "language": "python",
     "metadata": {},
     "outputs": [],
     "prompt_number": 51
    },
    {
     "cell_type": "code",
     "collapsed": false,
     "input": [
      "data[unmatchedpool].fare.describe()"
     ],
     "language": "python",
     "metadata": {},
     "outputs": [
      {
       "metadata": {},
       "output_type": "pyout",
       "prompt_number": 52,
       "text": [
        "count    51651.000000\n",
        "mean        11.179355\n",
        "std          6.503261\n",
        "min          0.000000\n",
        "25%          7.170000\n",
        "50%          9.280000\n",
        "75%         12.670000\n",
        "max        134.920000\n",
        "dtype: float64"
       ]
      }
     ],
     "prompt_number": 52
    },
    {
     "cell_type": "code",
     "collapsed": false,
     "input": [
      "uberx = (data.request_vehicle_view_id == 8)"
     ],
     "language": "python",
     "metadata": {},
     "outputs": [],
     "prompt_number": 54
    },
    {
     "cell_type": "code",
     "collapsed": false,
     "input": [
      "data[uberx].status.value_counts()"
     ],
     "language": "python",
     "metadata": {},
     "outputs": [
      {
       "metadata": {},
       "output_type": "pyout",
       "prompt_number": 57,
       "text": [
        "completed          671045\n",
        "canceled            91805\n",
        "driver_canceled     20800\n",
        "unfulfilled         16454\n",
        "fare_split          11818\n",
        "dtype: int64"
       ]
      }
     ],
     "prompt_number": 57
    },
    {
     "cell_type": "code",
     "collapsed": false,
     "input": [
      "data.fare.describe()"
     ],
     "language": "python",
     "metadata": {},
     "outputs": []
    },
    {
     "cell_type": "code",
     "collapsed": false,
     "input": [
      "data.fare.quantile([0, 0.25, 0.5, 0.75, 1])"
     ],
     "language": "python",
     "metadata": {},
     "outputs": []
    },
    {
     "cell_type": "code",
     "collapsed": false,
     "input": [
      "data.fare.quantile([.95, .99])"
     ],
     "language": "python",
     "metadata": {},
     "outputs": []
    },
    {
     "cell_type": "code",
     "collapsed": false,
     "input": [
      "data[(data.request_vehicle_view_id == 1491) & (data.status == 'completed')].fare.describe()"
     ],
     "language": "python",
     "metadata": {},
     "outputs": []
    },
    {
     "cell_type": "code",
     "collapsed": false,
     "input": [
      "data[(data.status == 'completed') & (data.request_vehicle_view_id == 1491)].sort('fare').head(5)"
     ],
     "language": "python",
     "metadata": {},
     "outputs": []
    },
    {
     "cell_type": "code",
     "collapsed": false,
     "input": [],
     "language": "python",
     "metadata": {},
     "outputs": []
    },
    {
     "cell_type": "markdown",
     "metadata": {},
     "source": [
      "#Lets plot the predicted_eta vs. actual_eta and look at the difference."
     ]
    },
    {
     "cell_type": "code",
     "collapsed": false,
     "input": [
      "data.predicted_eta.describe()"
     ],
     "language": "python",
     "metadata": {},
     "outputs": [
      {
       "metadata": {},
       "output_type": "pyout",
       "prompt_number": 58,
       "text": [
        "count    831144.000000\n",
        "mean        183.621084\n",
        "std         138.304117\n",
        "min           1.000000\n",
        "25%          90.000000\n",
        "50%         145.000000\n",
        "75%         244.000000\n",
        "max        2852.000000\n",
        "dtype: float64"
       ]
      }
     ],
     "prompt_number": 58
    },
    {
     "cell_type": "code",
     "collapsed": false,
     "input": [
      "data.actual_eta.describe()"
     ],
     "language": "python",
     "metadata": {},
     "outputs": [
      {
       "metadata": {},
       "output_type": "pyout",
       "prompt_number": 59,
       "text": [
        "count    831754.000000\n",
        "mean        191.156127\n",
        "std         192.016384\n",
        "min           1.000000\n",
        "25%          69.000000\n",
        "50%         147.000000\n",
        "75%         260.000000\n",
        "max       60174.000000\n",
        "dtype: float64"
       ]
      }
     ],
     "prompt_number": 59
    },
    {
     "cell_type": "code",
     "collapsed": false,
     "input": [
      "data.set_index('request_at',inplace = True)"
     ],
     "language": "python",
     "metadata": {},
     "outputs": [],
     "prompt_number": 60
    },
    {
     "cell_type": "code",
     "collapsed": false,
     "input": [
      "data.head()"
     ],
     "language": "python",
     "metadata": {},
     "outputs": [
      {
       "html": [
        "<div style=\"max-height:1000px;max-width:1500px;overflow:auto;\">\n",
        "<table border=\"1\" class=\"dataframe\">\n",
        "  <thead>\n",
        "    <tr style=\"text-align: right;\">\n",
        "      <th></th>\n",
        "      <th>uuid</th>\n",
        "      <th>status</th>\n",
        "      <th>request_lat</th>\n",
        "      <th>request_lng</th>\n",
        "      <th>dropoff_at</th>\n",
        "      <th>dropoff_lat</th>\n",
        "      <th>dropoff_lng</th>\n",
        "      <th>predicted_eta</th>\n",
        "      <th>actual_eta</th>\n",
        "      <th>request_vehicle_view_id</th>\n",
        "      <th>duration</th>\n",
        "      <th>distance</th>\n",
        "      <th>fare</th>\n",
        "      <th>multiplier</th>\n",
        "    </tr>\n",
        "    <tr>\n",
        "      <th>request_at</th>\n",
        "      <th></th>\n",
        "      <th></th>\n",
        "      <th></th>\n",
        "      <th></th>\n",
        "      <th></th>\n",
        "      <th></th>\n",
        "      <th></th>\n",
        "      <th></th>\n",
        "      <th></th>\n",
        "      <th></th>\n",
        "      <th></th>\n",
        "      <th></th>\n",
        "      <th></th>\n",
        "      <th></th>\n",
        "    </tr>\n",
        "  </thead>\n",
        "  <tbody>\n",
        "    <tr>\n",
        "      <th>2014-11-15 00:00:01</th>\n",
        "      <td> 0207859e-d812-43f9-95c6-408b01dab0ac</td>\n",
        "      <td>       completed</td>\n",
        "      <td> 37.760296</td>\n",
        "      <td>-122.419151</td>\n",
        "      <td>2014-11-15 00:07:59</td>\n",
        "      <td> 37.754526</td>\n",
        "      <td>-122.420850</td>\n",
        "      <td>  95</td>\n",
        "      <td> 108</td>\n",
        "      <td>   1</td>\n",
        "      <td> 242</td>\n",
        "      <td> 0.861437</td>\n",
        "      <td> 15.00</td>\n",
        "      <td> 1</td>\n",
        "    </tr>\n",
        "    <tr>\n",
        "      <th>2014-11-15 00:00:01</th>\n",
        "      <td> 00402036-51f2-4793-a9ef-aae29b126e96</td>\n",
        "      <td>     unfulfilled</td>\n",
        "      <td> 37.997599</td>\n",
        "      <td>-121.713769</td>\n",
        "      <td>                NaT</td>\n",
        "      <td>       NaN</td>\n",
        "      <td>        NaN</td>\n",
        "      <td> NaN</td>\n",
        "      <td> NaN</td>\n",
        "      <td> 942</td>\n",
        "      <td>   0</td>\n",
        "      <td> 0.000000</td>\n",
        "      <td>  0.00</td>\n",
        "      <td> 1</td>\n",
        "    </tr>\n",
        "    <tr>\n",
        "      <th>2014-11-15 00:00:02</th>\n",
        "      <td> bc6d69dd-b75e-4d5c-a486-87b6ba5324de</td>\n",
        "      <td>       completed</td>\n",
        "      <td> 37.742335</td>\n",
        "      <td>-122.426627</td>\n",
        "      <td>2014-11-15 00:11:16</td>\n",
        "      <td> 37.731267</td>\n",
        "      <td>-122.396539</td>\n",
        "      <td> 107</td>\n",
        "      <td>  93</td>\n",
        "      <td>   8</td>\n",
        "      <td> 561</td>\n",
        "      <td> 2.340369</td>\n",
        "      <td>  8.67</td>\n",
        "      <td> 1</td>\n",
        "    </tr>\n",
        "    <tr>\n",
        "      <th>2014-11-15 00:00:02</th>\n",
        "      <td> 44d3e60a-3a89-40b6-bfa3-1229e69c058a</td>\n",
        "      <td> driver_canceled</td>\n",
        "      <td> 37.774339</td>\n",
        "      <td>-122.426113</td>\n",
        "      <td>                NaT</td>\n",
        "      <td>       NaN</td>\n",
        "      <td>        NaN</td>\n",
        "      <td> 306</td>\n",
        "      <td> 294</td>\n",
        "      <td>   8</td>\n",
        "      <td>   0</td>\n",
        "      <td> 0.000000</td>\n",
        "      <td>  0.00</td>\n",
        "      <td> 1</td>\n",
        "    </tr>\n",
        "    <tr>\n",
        "      <th>2014-11-15 00:00:02</th>\n",
        "      <td> f36eb462-9289-40a1-90f8-e902edbeaf1a</td>\n",
        "      <td>       completed</td>\n",
        "      <td> 37.783014</td>\n",
        "      <td>-122.463723</td>\n",
        "      <td>2014-11-15 00:11:33</td>\n",
        "      <td> 37.780194</td>\n",
        "      <td>-122.485714</td>\n",
        "      <td> 115</td>\n",
        "      <td> 177</td>\n",
        "      <td>   8</td>\n",
        "      <td> 374</td>\n",
        "      <td> 1.328185</td>\n",
        "      <td>  6.55</td>\n",
        "      <td> 1</td>\n",
        "    </tr>\n",
        "  </tbody>\n",
        "</table>\n",
        "</div>"
       ],
       "metadata": {},
       "output_type": "pyout",
       "prompt_number": 61,
       "text": [
        "                                                     uuid           status  \\\n",
        "request_at                                                                   \n",
        "2014-11-15 00:00:01  0207859e-d812-43f9-95c6-408b01dab0ac        completed   \n",
        "2014-11-15 00:00:01  00402036-51f2-4793-a9ef-aae29b126e96      unfulfilled   \n",
        "2014-11-15 00:00:02  bc6d69dd-b75e-4d5c-a486-87b6ba5324de        completed   \n",
        "2014-11-15 00:00:02  44d3e60a-3a89-40b6-bfa3-1229e69c058a  driver_canceled   \n",
        "2014-11-15 00:00:02  f36eb462-9289-40a1-90f8-e902edbeaf1a        completed   \n",
        "\n",
        "                     request_lat  request_lng          dropoff_at  \\\n",
        "request_at                                                          \n",
        "2014-11-15 00:00:01    37.760296  -122.419151 2014-11-15 00:07:59   \n",
        "2014-11-15 00:00:01    37.997599  -121.713769                 NaT   \n",
        "2014-11-15 00:00:02    37.742335  -122.426627 2014-11-15 00:11:16   \n",
        "2014-11-15 00:00:02    37.774339  -122.426113                 NaT   \n",
        "2014-11-15 00:00:02    37.783014  -122.463723 2014-11-15 00:11:33   \n",
        "\n",
        "                     dropoff_lat  dropoff_lng  predicted_eta  actual_eta  \\\n",
        "request_at                                                                 \n",
        "2014-11-15 00:00:01    37.754526  -122.420850             95         108   \n",
        "2014-11-15 00:00:01          NaN          NaN            NaN         NaN   \n",
        "2014-11-15 00:00:02    37.731267  -122.396539            107          93   \n",
        "2014-11-15 00:00:02          NaN          NaN            306         294   \n",
        "2014-11-15 00:00:02    37.780194  -122.485714            115         177   \n",
        "\n",
        "                     request_vehicle_view_id  duration  distance   fare  \\\n",
        "request_at                                                                \n",
        "2014-11-15 00:00:01                        1       242  0.861437  15.00   \n",
        "2014-11-15 00:00:01                      942         0  0.000000   0.00   \n",
        "2014-11-15 00:00:02                        8       561  2.340369   8.67   \n",
        "2014-11-15 00:00:02                        8         0  0.000000   0.00   \n",
        "2014-11-15 00:00:02                        8       374  1.328185   6.55   \n",
        "\n",
        "                     multiplier  \n",
        "request_at                       \n",
        "2014-11-15 00:00:01           1  \n",
        "2014-11-15 00:00:01           1  \n",
        "2014-11-15 00:00:02           1  \n",
        "2014-11-15 00:00:02           1  \n",
        "2014-11-15 00:00:02           1  "
       ]
      }
     ],
     "prompt_number": 61
    },
    {
     "cell_type": "code",
     "collapsed": false,
     "input": [
      "data[(data.status == 'completed') & (data.request_vehicle_view_id == 8)].resample('1H', how=mean).head()"
     ],
     "language": "python",
     "metadata": {},
     "outputs": [
      {
       "html": [
        "<div style=\"max-height:1000px;max-width:1500px;overflow:auto;\">\n",
        "<table border=\"1\" class=\"dataframe\">\n",
        "  <thead>\n",
        "    <tr style=\"text-align: right;\">\n",
        "      <th></th>\n",
        "      <th>request_lat</th>\n",
        "      <th>request_lng</th>\n",
        "      <th>dropoff_lat</th>\n",
        "      <th>dropoff_lng</th>\n",
        "      <th>predicted_eta</th>\n",
        "      <th>actual_eta</th>\n",
        "      <th>request_vehicle_view_id</th>\n",
        "      <th>duration</th>\n",
        "      <th>distance</th>\n",
        "      <th>fare</th>\n",
        "      <th>multiplier</th>\n",
        "    </tr>\n",
        "    <tr>\n",
        "      <th>request_at</th>\n",
        "      <th></th>\n",
        "      <th></th>\n",
        "      <th></th>\n",
        "      <th></th>\n",
        "      <th></th>\n",
        "      <th></th>\n",
        "      <th></th>\n",
        "      <th></th>\n",
        "      <th></th>\n",
        "      <th></th>\n",
        "      <th></th>\n",
        "    </tr>\n",
        "  </thead>\n",
        "  <tbody>\n",
        "    <tr>\n",
        "      <th>2014-11-15 00:00:00</th>\n",
        "      <td> 37.729625</td>\n",
        "      <td>-122.335781</td>\n",
        "      <td> 37.728338</td>\n",
        "      <td>-122.333776</td>\n",
        "      <td> 174.698883</td>\n",
        "      <td> 154.382548</td>\n",
        "      <td> 8</td>\n",
        "      <td> 667.327251</td>\n",
        "      <td> 4.074892</td>\n",
        "      <td> 12.025612</td>\n",
        "      <td> 1.030636</td>\n",
        "    </tr>\n",
        "    <tr>\n",
        "      <th>2014-11-15 01:00:00</th>\n",
        "      <td> 37.694230</td>\n",
        "      <td>-122.300798</td>\n",
        "      <td> 37.693033</td>\n",
        "      <td>-122.293304</td>\n",
        "      <td> 226.500750</td>\n",
        "      <td> 193.208687</td>\n",
        "      <td> 8</td>\n",
        "      <td> 681.787966</td>\n",
        "      <td> 4.625750</td>\n",
        "      <td> 13.235683</td>\n",
        "      <td> 1.068625</td>\n",
        "    </tr>\n",
        "    <tr>\n",
        "      <th>2014-11-15 02:00:00</th>\n",
        "      <td> 37.720726</td>\n",
        "      <td>-122.338239</td>\n",
        "      <td> 37.713169</td>\n",
        "      <td>-122.330331</td>\n",
        "      <td> 189.215642</td>\n",
        "      <td> 154.447988</td>\n",
        "      <td> 8</td>\n",
        "      <td> 760.888479</td>\n",
        "      <td> 5.004504</td>\n",
        "      <td> 15.044956</td>\n",
        "      <td> 1.150148</td>\n",
        "    </tr>\n",
        "    <tr>\n",
        "      <th>2014-11-15 03:00:00</th>\n",
        "      <td> 37.723798</td>\n",
        "      <td>-122.342389</td>\n",
        "      <td> 37.721012</td>\n",
        "      <td>-122.340475</td>\n",
        "      <td> 253.219839</td>\n",
        "      <td> 207.516086</td>\n",
        "      <td> 8</td>\n",
        "      <td> 731.239418</td>\n",
        "      <td> 5.449188</td>\n",
        "      <td> 14.111005</td>\n",
        "      <td> 1.012963</td>\n",
        "    </tr>\n",
        "    <tr>\n",
        "      <th>2014-11-15 04:00:00</th>\n",
        "      <td> 37.725685</td>\n",
        "      <td>-122.347248</td>\n",
        "      <td> 37.698121</td>\n",
        "      <td>-122.341820</td>\n",
        "      <td> 279.638672</td>\n",
        "      <td> 243.996094</td>\n",
        "      <td> 8</td>\n",
        "      <td> 854.170825</td>\n",
        "      <td> 8.172554</td>\n",
        "      <td> 18.929942</td>\n",
        "      <td> 1.000000</td>\n",
        "    </tr>\n",
        "  </tbody>\n",
        "</table>\n",
        "</div>"
       ],
       "metadata": {},
       "output_type": "pyout",
       "prompt_number": 62,
       "text": [
        "                     request_lat  request_lng  dropoff_lat  dropoff_lng  \\\n",
        "request_at                                                                \n",
        "2014-11-15 00:00:00    37.729625  -122.335781    37.728338  -122.333776   \n",
        "2014-11-15 01:00:00    37.694230  -122.300798    37.693033  -122.293304   \n",
        "2014-11-15 02:00:00    37.720726  -122.338239    37.713169  -122.330331   \n",
        "2014-11-15 03:00:00    37.723798  -122.342389    37.721012  -122.340475   \n",
        "2014-11-15 04:00:00    37.725685  -122.347248    37.698121  -122.341820   \n",
        "\n",
        "                     predicted_eta  actual_eta  request_vehicle_view_id  \\\n",
        "request_at                                                                \n",
        "2014-11-15 00:00:00     174.698883  154.382548                        8   \n",
        "2014-11-15 01:00:00     226.500750  193.208687                        8   \n",
        "2014-11-15 02:00:00     189.215642  154.447988                        8   \n",
        "2014-11-15 03:00:00     253.219839  207.516086                        8   \n",
        "2014-11-15 04:00:00     279.638672  243.996094                        8   \n",
        "\n",
        "                       duration  distance       fare  multiplier  \n",
        "request_at                                                        \n",
        "2014-11-15 00:00:00  667.327251  4.074892  12.025612    1.030636  \n",
        "2014-11-15 01:00:00  681.787966  4.625750  13.235683    1.068625  \n",
        "2014-11-15 02:00:00  760.888479  5.004504  15.044956    1.150148  \n",
        "2014-11-15 03:00:00  731.239418  5.449188  14.111005    1.012963  \n",
        "2014-11-15 04:00:00  854.170825  8.172554  18.929942    1.000000  "
       ]
      }
     ],
     "prompt_number": 62
    },
    {
     "cell_type": "code",
     "collapsed": false,
     "input": [
      "data.index.max()"
     ],
     "language": "python",
     "metadata": {},
     "outputs": [
      {
       "metadata": {},
       "output_type": "pyout",
       "prompt_number": 63,
       "text": [
        "Timestamp('2014-11-30 23:59:59')"
       ]
      }
     ],
     "prompt_number": 63
    },
    {
     "cell_type": "code",
     "collapsed": false,
     "input": [
      "completed = data[data.status == 'completed']"
     ],
     "language": "python",
     "metadata": {},
     "outputs": []
    },
    {
     "cell_type": "code",
     "collapsed": false,
     "input": [
      "completed.tail()"
     ],
     "language": "python",
     "metadata": {},
     "outputs": []
    },
    {
     "cell_type": "code",
     "collapsed": false,
     "input": [
      "completed[completed.request_vehicle_view_id == 8].resample('1H', how = mean).predicted_eta.plot(figsize = (18,8))\n",
      "plt.title('Example Plot', fontsize = 25)\n",
      "plt.ylabel('y axis', fontsize = 50)\n",
      "plt.xlabel('Request at')"
     ],
     "language": "python",
     "metadata": {},
     "outputs": []
    },
    {
     "cell_type": "code",
     "collapsed": false,
     "input": [
      "completed[completed.request_vehicle_view_id == 8].resample('1H', how = mean).predicted_eta.plot(figsize = (18,8), \n",
      "                                                                                                label = 'predicted')\n",
      "completed[completed.request_vehicle_view_id == 8].resample('1H', how = mean).actual_eta.plot(figsize = (18,8), \n",
      "                                                                                             label = 'actual')\n",
      "plt.legend(loc = 2, fontsize = 20)\n",
      "plt.title('Example Plot', fontsize = 30)"
     ],
     "language": "python",
     "metadata": {},
     "outputs": []
    },
    {
     "cell_type": "code",
     "collapsed": false,
     "input": [
      "completed[completed.request_vehicle_view_id == 8].resample('1D', how = mean).predicted_eta.plot(figsize = (18,8), \n",
      "                                                                                                label = 'predicted')\n",
      "completed[completed.request_vehicle_view_id == 8].resample('1D', how = mean).actual_eta.plot(figsize = (18,8), \n",
      "                                                                                             label = 'actual')\n",
      "plt.legend(loc = 2, fontsize = 20)"
     ],
     "language": "python",
     "metadata": {},
     "outputs": []
    },
    {
     "cell_type": "code",
     "collapsed": false,
     "input": [
      "resampled = completed[completed.request_vehicle_view_id == 8].resample('1H', how = mean)"
     ],
     "language": "python",
     "metadata": {},
     "outputs": []
    },
    {
     "cell_type": "code",
     "collapsed": false,
     "input": [
      "(resampled.actual_eta - resampled.predicted_eta).plot(figsize = (18, 8))"
     ],
     "language": "python",
     "metadata": {},
     "outputs": []
    },
    {
     "cell_type": "markdown",
     "metadata": {},
     "source": [
      "# Average Surge Multiplier by XX Unit (Hour right now)"
     ]
    },
    {
     "cell_type": "code",
     "collapsed": false,
     "input": [
      "resampled.multiplier.plot(figsize = (18, 8))"
     ],
     "language": "python",
     "metadata": {},
     "outputs": []
    },
    {
     "cell_type": "markdown",
     "metadata": {},
     "source": [
      "#Cancelled vs. Completed Stuff for uberX"
     ]
    },
    {
     "cell_type": "code",
     "collapsed": false,
     "input": [
      "canceled = data[data.status == 'canceled']"
     ],
     "language": "python",
     "metadata": {},
     "outputs": []
    },
    {
     "cell_type": "code",
     "collapsed": false,
     "input": [
      "canceled[canceled.request_vehicle_view_id == 8].resample('1H', how = size).uuid.plot(figsize = (18, 8))"
     ],
     "language": "python",
     "metadata": {},
     "outputs": []
    },
    {
     "cell_type": "code",
     "collapsed": false,
     "input": [
      "canceled[canceled.request_vehicle_view_id == 8].resample('1H', how = size).uuid.plot(figsize = (18, 8))\n",
      "completed[completed.request_vehicle_view_id == 8].resample('1H', how = size).uuid.plot(figsize = (18, 8))"
     ],
     "language": "python",
     "metadata": {},
     "outputs": []
    },
    {
     "cell_type": "code",
     "collapsed": false,
     "input": [
      "# An example of what NOT to do\n",
      "\n",
      "(canceled[canceled.request_vehicle_view_id == 8].resample('1H', how = size).uuid/data[data.request_vehicle_view_id == 8].resample('1H', how = size).uuid).plot(figsize =(18,8))"
     ],
     "language": "python",
     "metadata": {},
     "outputs": []
    },
    {
     "cell_type": "code",
     "collapsed": false,
     "input": [
      "resampled_cancels = canceled[canceled.request_vehicle_view_id == 8].resample('1H', how = size).uuid\n",
      "resampled_trips = data[data.request_vehicle_view_id == 8].resample('1H', how = size).uuid\n",
      "rolling_mean_cancels = pd.rolling_mean((resampled_cancels/resampled_trips), window = 24, min_periods = 20)\n",
      "rolling_std_dev_cancels = pd.rolling_std((resampled_cancels/resampled_trips), window = 24, min_periods = 20)"
     ],
     "language": "python",
     "metadata": {},
     "outputs": []
    },
    {
     "cell_type": "code",
     "collapsed": false,
     "input": [
      "(resampled_cancels/resampled_trips).plot(figsize = (18,8))\n",
      "rolling_mean_cancels.plot()\n",
      "(resampled_cancels/resampled_trips).resample('1D', how =mean, label = 'right').plot()"
     ],
     "language": "python",
     "metadata": {},
     "outputs": []
    },
    {
     "cell_type": "code",
     "collapsed": false,
     "input": [
      "(resampled_cancels/resampled_trips).plot(figsize = (18,8))\n",
      "rolling_mean_cancels.plot()\n",
      "plt.fill_between(rolling_std_dev_cancels.index, \n",
      "                 rolling_mean_cancels - 2*rolling_std_dev_cancels, \n",
      "                 rolling_mean_cancels + 2*rolling_std_dev_cancels,  \n",
      "                 alpha=0.2)"
     ],
     "language": "python",
     "metadata": {},
     "outputs": []
    },
    {
     "cell_type": "code",
     "collapsed": false,
     "input": [
      "(resampled_cancels/resampled_trips).resample('1D', how =mean)"
     ],
     "language": "python",
     "metadata": {},
     "outputs": []
    },
    {
     "cell_type": "code",
     "collapsed": false,
     "input": [
      "data.groupby('request_vehicle_view_id').status.value_counts().unstack(0)"
     ],
     "language": "python",
     "metadata": {},
     "outputs": []
    },
    {
     "cell_type": "code",
     "collapsed": false,
     "input": [
      "data.groupby(['request_vehicle_view_id', 'multiplier']).status.value_counts().unstack(1)"
     ],
     "language": "python",
     "metadata": {},
     "outputs": []
    },
    {
     "cell_type": "code",
     "collapsed": false,
     "input": [
      "data.actual_eta.hist(bins = 100, figsize = (18,8))"
     ],
     "language": "python",
     "metadata": {},
     "outputs": []
    },
    {
     "cell_type": "code",
     "collapsed": false,
     "input": [
      "data.actual_eta.describe()"
     ],
     "language": "python",
     "metadata": {},
     "outputs": []
    },
    {
     "cell_type": "code",
     "collapsed": false,
     "input": [
      "data.actual_eta.quantile(0.999)"
     ],
     "language": "python",
     "metadata": {},
     "outputs": []
    },
    {
     "cell_type": "code",
     "collapsed": false,
     "input": [
      "data[data.actual_eta < 1300].predicted_eta.hist(bins = 100, figsize = (18,8), alpha = 0.7, label = 'predicted')\n",
      "\n",
      "data[data.actual_eta < 1300].actual_eta.hist(bins = 100, figsize = (18,8), alpha = 0.7, label = 'actual')\n",
      "plt.legend(loc = 1)"
     ],
     "language": "python",
     "metadata": {},
     "outputs": []
    },
    {
     "cell_type": "code",
     "collapsed": false,
     "input": [
      "data[data.actual_eta < 1300].predicted_eta.hist(bins = 100, figsize = (18,8), alpha = 0.7, label = 'predicted', \n",
      "                                                cumulative = True, normed = 1)\n",
      "\n",
      "data[data.actual_eta < 1300].actual_eta.hist(bins = 100, figsize = (18,8), alpha = 0.7, label = 'actual',\n",
      "                                             cumulative = True, normed = 1)\n",
      "\n",
      "plt.legend(loc = 2, fontsize = 16)\n",
      "plt.xlabel('ETA in Seconds', fontsize = 16)\n",
      "plt.ylabel('proportion', fontsize = 16)\n",
      "plt.title('Predicted ETA vs. Actual TA CDF', fontsize = 25 )"
     ],
     "language": "python",
     "metadata": {},
     "outputs": []
    },
    {
     "cell_type": "code",
     "collapsed": false,
     "input": [
      "data[(data.actual_eta < 1300) & (data.predicted_eta < 1300)].predicted_eta.hist(bins = 100, figsize = (18,8), alpha = 0.7, label = 'predicted')\n",
      "\n",
      "data[(data.actual_eta < 1300) & (data.predicted_eta < 1300)].actual_eta.hist(bins = 100, figsize = (18,8), alpha = 0.7, label = 'actual')\n",
      "plt.legend(loc = 1)"
     ],
     "language": "python",
     "metadata": {},
     "outputs": []
    },
    {
     "cell_type": "code",
     "collapsed": false,
     "input": [
      "completed = data[data.status == 'completed']"
     ],
     "language": "python",
     "metadata": {},
     "outputs": []
    },
    {
     "cell_type": "code",
     "collapsed": false,
     "input": [
      "completed.predicted_eta.hist(by = completed.request_vehicle_view_id, figsize = (18,8), bins = 50, sharex = True)\n",
      "plt.xlim(0, 1000)\n",
      "completed.actual_eta.hist(by = completed.request_vehicle_view_id, figsize = (18,8), bins = 50, sharex = True)\n",
      "plt.xlim(0, 1000)"
     ],
     "language": "python",
     "metadata": {},
     "outputs": []
    },
    {
     "cell_type": "code",
     "collapsed": false,
     "input": [
      "completed[completed.predicted_eta < 1000].predicted_eta.hist(by = completed[completed.predicted_eta < 1000].request_vehicle_view_id, figsize = (18,8), bins = 50, sharex = True)\n",
      "completed[completed.actual_eta < 1000].actual_eta.hist(by = completed[completed.actual_eta < 1000].request_vehicle_view_id, figsize = (18,8), bins = 50, sharex = True)"
     ],
     "language": "python",
     "metadata": {},
     "outputs": []
    },
    {
     "cell_type": "code",
     "collapsed": false,
     "input": [
      "completed.actual_eta.hist(by=completed.multiplier, figsize = (18,18), bins = 30 )"
     ],
     "language": "python",
     "metadata": {},
     "outputs": []
    }
   ],
   "metadata": {}
  }
 ]
}